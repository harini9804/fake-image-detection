{
  "nbformat": 4,
  "nbformat_minor": 0,
  "metadata": {
    "colab": {
      "name": "fine tuning with VGG16",
      "provenance": [],
      "collapsed_sections": [],
      "mount_file_id": "1hiLUMqhvIwo3FW2YTamhMJtXTYfAoeR4",
      "authorship_tag": "ABX9TyOgtQGlcNpi4gyGxZYomKpt",
      "include_colab_link": true
    },
    "kernelspec": {
      "name": "python3",
      "display_name": "Python 3"
    },
    "accelerator": "GPU"
  },
  "cells": [
    {
      "cell_type": "markdown",
      "metadata": {
        "id": "view-in-github",
        "colab_type": "text"
      },
      "source": [
        "<a href=\"https://colab.research.google.com/github/harini9804/fake-image-detection/blob/master/fine_tuning_with_VGG16.ipynb\" target=\"_parent\"><img src=\"https://colab.research.google.com/assets/colab-badge.svg\" alt=\"Open In Colab\"/></a>"
      ]
    },
    {
      "cell_type": "code",
      "metadata": {
        "id": "8YnqYs2RtRKG",
        "colab_type": "code",
        "colab": {}
      },
      "source": [
        "%cp '/content/drive/My Drive/Colab Notebooks/weibo_data_split.zip' /content"
      ],
      "execution_count": 0,
      "outputs": []
    },
    {
      "cell_type": "code",
      "metadata": {
        "id": "Rj7uSgY7wT3N",
        "colab_type": "code",
        "colab": {}
      },
      "source": [
        "!unzip weibo_data_split.zip -d /content/"
      ],
      "execution_count": 0,
      "outputs": []
    },
    {
      "cell_type": "code",
      "metadata": {
        "id": "_rGZ99jMMD3T",
        "colab_type": "code",
        "colab": {
          "base_uri": "https://localhost:8080/",
          "height": 35
        },
        "outputId": "c74f6c9a-3af4-433f-fe63-ae85ecf87ead"
      },
      "source": [
        "from keras import applications\n",
        "from keras.preprocessing.image import ImageDataGenerator\n",
        "from keras import optimizers\n",
        "from keras.models import Sequential\n",
        "from keras.layers import Dropout, Flatten, Dense\n",
        "import os"
      ],
      "execution_count": 3,
      "outputs": [
        {
          "output_type": "stream",
          "text": [
            "Using TensorFlow backend.\n"
          ],
          "name": "stderr"
        }
      ]
    },
    {
      "cell_type": "code",
      "metadata": {
        "id": "GTc8OvyESI7V",
        "colab_type": "code",
        "colab": {}
      },
      "source": [
        "import numpy as np"
      ],
      "execution_count": 0,
      "outputs": []
    },
    {
      "cell_type": "code",
      "metadata": {
        "id": "vn0OLDkkMKhL",
        "colab_type": "code",
        "colab": {}
      },
      "source": [
        "# path to the model weights files.\n",
        "weights_path = '../keras/examples/vgg16_weights.h5'\n",
        "top_model_weights_path = '/content/drive/My Drive/Colab Notebooks/bottleneck_fc_model.h5'\n",
        "# dimensions of our images.\n",
        "img_width, img_height = 150, 150"
      ],
      "execution_count": 0,
      "outputs": []
    },
    {
      "cell_type": "code",
      "metadata": {
        "id": "lB4vrWEiuRQw",
        "colab_type": "code",
        "colab": {}
      },
      "source": [
        "# %mv ./content/weibo_data_split/ /content/weibo_data_split_ela"
      ],
      "execution_count": 0,
      "outputs": []
    },
    {
      "cell_type": "code",
      "metadata": {
        "id": "-1BJOU0OcNlv",
        "colab_type": "code",
        "colab": {}
      },
      "source": [
        "\n",
        "base_dir = '/content/weibo_data_split'\n",
        "train_data_dir = base_dir +'/train'\n",
        "validation_data_dir = base_dir +'/validation'\n",
        "\n",
        "nb_train_samples = 2*len(os.listdir(train_data_dir+'/fake'))\n",
        "nb_validation_samples = 2*len(os.listdir(validation_data_dir+'/fake'))\n",
        "epochs = 50\n",
        "batch_size = 64"
      ],
      "execution_count": 0,
      "outputs": []
    },
    {
      "cell_type": "code",
      "metadata": {
        "id": "rL5mqxvLMOkl",
        "colab_type": "code",
        "outputId": "21cc5222-f87c-4c29-9b4e-0402c9b91a8f",
        "colab": {
          "base_uri": "https://localhost:8080/",
          "height": 91
        }
      },
      "source": [
        "# build the VGG16 network\n",
        "model = applications.VGG16(weights='imagenet', include_top=False, input_shape=(img_width, img_height, 3))\n",
        "print('Model loaded.')"
      ],
      "execution_count": 8,
      "outputs": [
        {
          "output_type": "stream",
          "text": [
            "Downloading data from https://github.com/fchollet/deep-learning-models/releases/download/v0.1/vgg16_weights_tf_dim_ordering_tf_kernels_notop.h5\n",
            "58892288/58889256 [==============================] - 6s 0us/step\n",
            "Model loaded.\n"
          ],
          "name": "stdout"
        }
      ]
    },
    {
      "cell_type": "code",
      "metadata": {
        "id": "s8N0QmSSM3oH",
        "colab_type": "code",
        "colab": {}
      },
      "source": [
        "top_model = Sequential()\n",
        "top_model.add(Flatten(input_shape=model.output_shape[1:]))\n",
        "top_model.add(Dense(256, activation='relu'))\n",
        "top_model.add(Dropout(0.5))\n",
        "top_model.add(Dense(1, activation='sigmoid'))"
      ],
      "execution_count": 0,
      "outputs": []
    },
    {
      "cell_type": "code",
      "metadata": {
        "id": "0TrOFp8Hf1Zk",
        "colab_type": "code",
        "colab": {}
      },
      "source": [
        "# note that it is necessary to start with a fully-trained\n",
        "# classifier, including the top classifier,\n",
        "# in order to successfully do fine-tuning\n",
        "top_model.load_weights(top_model_weights_path)"
      ],
      "execution_count": 0,
      "outputs": []
    },
    {
      "cell_type": "code",
      "metadata": {
        "id": "PSaIJGrqmEHI",
        "colab_type": "code",
        "colab": {}
      },
      "source": [
        "new_model = Sequential()\n",
        "for l in model.layers:\n",
        "    new_model.add(l)\n",
        "\n",
        "\n",
        "# CONCATENATE THE TWO MODELS\n",
        "new_model.add(top_model)"
      ],
      "execution_count": 0,
      "outputs": []
    },
    {
      "cell_type": "code",
      "metadata": {
        "id": "5drSOSyxwAvn",
        "colab_type": "code",
        "colab": {
          "base_uri": "https://localhost:8080/",
          "height": 357
        },
        "outputId": "523119ce-90e5-45ce-940d-4d340e7281d7"
      },
      "source": [
        "new_model.layers"
      ],
      "execution_count": 12,
      "outputs": [
        {
          "output_type": "execute_result",
          "data": {
            "text/plain": [
              "[<keras.layers.convolutional.Conv2D at 0x7fdfd0c9a828>,\n",
              " <keras.layers.convolutional.Conv2D at 0x7fdfd0c9aa90>,\n",
              " <keras.layers.pooling.MaxPooling2D at 0x7fdfd0c9ae10>,\n",
              " <keras.layers.convolutional.Conv2D at 0x7fdfd0c9af28>,\n",
              " <keras.layers.convolutional.Conv2D at 0x7fdfd0c4fe80>,\n",
              " <keras.layers.pooling.MaxPooling2D at 0x7fdfd0c6ba20>,\n",
              " <keras.layers.convolutional.Conv2D at 0x7fdfd0c6b860>,\n",
              " <keras.layers.convolutional.Conv2D at 0x7fdfc01e9550>,\n",
              " <keras.layers.convolutional.Conv2D at 0x7fdfc01e9e48>,\n",
              " <keras.layers.pooling.MaxPooling2D at 0x7fdfc01edb70>,\n",
              " <keras.layers.convolutional.Conv2D at 0x7fdfc01ed9b0>,\n",
              " <keras.layers.convolutional.Conv2D at 0x7fdfc01f86a0>,\n",
              " <keras.layers.convolutional.Conv2D at 0x7fdfc01f8e48>,\n",
              " <keras.layers.pooling.MaxPooling2D at 0x7fdfc01fdcc0>,\n",
              " <keras.layers.convolutional.Conv2D at 0x7fdfc01fdb00>,\n",
              " <keras.layers.convolutional.Conv2D at 0x7fdfc0205588>,\n",
              " <keras.layers.convolutional.Conv2D at 0x7fdfc020a3c8>,\n",
              " <keras.layers.pooling.MaxPooling2D at 0x7fdfc020ae10>,\n",
              " <keras.engine.sequential.Sequential at 0x7fdfc021bc50>]"
            ]
          },
          "metadata": {
            "tags": []
          },
          "execution_count": 12
        }
      ]
    },
    {
      "cell_type": "code",
      "metadata": {
        "colab_type": "code",
        "id": "lOuC5ktxmEVr",
        "colab": {}
      },
      "source": [
        "# new_model.summary()"
      ],
      "execution_count": 0,
      "outputs": []
    },
    {
      "cell_type": "code",
      "metadata": {
        "id": "RQHLRpFAmZCO",
        "colab_type": "code",
        "colab": {
          "base_uri": "https://localhost:8080/",
          "height": 286
        },
        "outputId": "a33c12eb-644a-4f29-ab4d-5c206206a112"
      },
      "source": [
        " new_model.layers[:15]"
      ],
      "execution_count": 13,
      "outputs": [
        {
          "output_type": "execute_result",
          "data": {
            "text/plain": [
              "[<keras.layers.convolutional.Conv2D at 0x7fdfd0c9a828>,\n",
              " <keras.layers.convolutional.Conv2D at 0x7fdfd0c9aa90>,\n",
              " <keras.layers.pooling.MaxPooling2D at 0x7fdfd0c9ae10>,\n",
              " <keras.layers.convolutional.Conv2D at 0x7fdfd0c9af28>,\n",
              " <keras.layers.convolutional.Conv2D at 0x7fdfd0c4fe80>,\n",
              " <keras.layers.pooling.MaxPooling2D at 0x7fdfd0c6ba20>,\n",
              " <keras.layers.convolutional.Conv2D at 0x7fdfd0c6b860>,\n",
              " <keras.layers.convolutional.Conv2D at 0x7fdfc01e9550>,\n",
              " <keras.layers.convolutional.Conv2D at 0x7fdfc01e9e48>,\n",
              " <keras.layers.pooling.MaxPooling2D at 0x7fdfc01edb70>,\n",
              " <keras.layers.convolutional.Conv2D at 0x7fdfc01ed9b0>,\n",
              " <keras.layers.convolutional.Conv2D at 0x7fdfc01f86a0>,\n",
              " <keras.layers.convolutional.Conv2D at 0x7fdfc01f8e48>,\n",
              " <keras.layers.pooling.MaxPooling2D at 0x7fdfc01fdcc0>,\n",
              " <keras.layers.convolutional.Conv2D at 0x7fdfc01fdb00>]"
            ]
          },
          "metadata": {
            "tags": []
          },
          "execution_count": 13
        }
      ]
    },
    {
      "cell_type": "code",
      "metadata": {
        "id": "5ju_SBuROvED",
        "colab_type": "code",
        "colab": {}
      },
      "source": [
        "# set the first 25 layers (up to the last conv block)\n",
        "# to non-trainable (weights will not be updated)\n",
        "for layer in new_model.layers[:15]:\n",
        "    layer.trainable = False"
      ],
      "execution_count": 0,
      "outputs": []
    },
    {
      "cell_type": "code",
      "metadata": {
        "id": "1mEdTBGnqlfr",
        "colab_type": "code",
        "colab": {}
      },
      "source": [
        "# new_model.load_weights(checkpoint_path)"
      ],
      "execution_count": 0,
      "outputs": []
    },
    {
      "cell_type": "code",
      "metadata": {
        "id": "co6l8kLgOxJ7",
        "colab_type": "code",
        "colab": {}
      },
      "source": [
        "# compile the model with a SGD/momentum optimizer\n",
        "# and a very slow learning rate.\n",
        "new_model.compile(loss='binary_crossentropy',\n",
        "              optimizer=optimizers.SGD(lr=0.001, momentum = 0.9),\n",
        "              metrics=['accuracy'])"
      ],
      "execution_count": 0,
      "outputs": []
    },
    {
      "cell_type": "code",
      "metadata": {
        "id": "LifkTXHhbuOv",
        "colab_type": "code",
        "colab": {
          "base_uri": "https://localhost:8080/",
          "height": 841
        },
        "outputId": "5e67cda3-8a16-48be-8a7c-b94039ff4deb"
      },
      "source": [
        "new_model.summary()"
      ],
      "execution_count": 17,
      "outputs": [
        {
          "output_type": "stream",
          "text": [
            "Model: \"sequential_2\"\n",
            "_________________________________________________________________\n",
            "Layer (type)                 Output Shape              Param #   \n",
            "=================================================================\n",
            "block1_conv1 (Conv2D)        (None, 150, 150, 64)      1792      \n",
            "_________________________________________________________________\n",
            "block1_conv2 (Conv2D)        (None, 150, 150, 64)      36928     \n",
            "_________________________________________________________________\n",
            "block1_pool (MaxPooling2D)   (None, 75, 75, 64)        0         \n",
            "_________________________________________________________________\n",
            "block2_conv1 (Conv2D)        (None, 75, 75, 128)       73856     \n",
            "_________________________________________________________________\n",
            "block2_conv2 (Conv2D)        (None, 75, 75, 128)       147584    \n",
            "_________________________________________________________________\n",
            "block2_pool (MaxPooling2D)   (None, 37, 37, 128)       0         \n",
            "_________________________________________________________________\n",
            "block3_conv1 (Conv2D)        (None, 37, 37, 256)       295168    \n",
            "_________________________________________________________________\n",
            "block3_conv2 (Conv2D)        (None, 37, 37, 256)       590080    \n",
            "_________________________________________________________________\n",
            "block3_conv3 (Conv2D)        (None, 37, 37, 256)       590080    \n",
            "_________________________________________________________________\n",
            "block3_pool (MaxPooling2D)   (None, 18, 18, 256)       0         \n",
            "_________________________________________________________________\n",
            "block4_conv1 (Conv2D)        (None, 18, 18, 512)       1180160   \n",
            "_________________________________________________________________\n",
            "block4_conv2 (Conv2D)        (None, 18, 18, 512)       2359808   \n",
            "_________________________________________________________________\n",
            "block4_conv3 (Conv2D)        (None, 18, 18, 512)       2359808   \n",
            "_________________________________________________________________\n",
            "block4_pool (MaxPooling2D)   (None, 9, 9, 512)         0         \n",
            "_________________________________________________________________\n",
            "block5_conv1 (Conv2D)        (None, 9, 9, 512)         2359808   \n",
            "_________________________________________________________________\n",
            "block5_conv2 (Conv2D)        (None, 9, 9, 512)         2359808   \n",
            "_________________________________________________________________\n",
            "block5_conv3 (Conv2D)        (None, 9, 9, 512)         2359808   \n",
            "_________________________________________________________________\n",
            "block5_pool (MaxPooling2D)   (None, 4, 4, 512)         0         \n",
            "_________________________________________________________________\n",
            "sequential_1 (Sequential)    (None, 1)                 2097665   \n",
            "=================================================================\n",
            "Total params: 16,812,353\n",
            "Trainable params: 6,817,281\n",
            "Non-trainable params: 9,995,072\n",
            "_________________________________________________________________\n"
          ],
          "name": "stdout"
        }
      ]
    },
    {
      "cell_type": "code",
      "metadata": {
        "id": "-F7jr0DnO0Vz",
        "colab_type": "code",
        "colab": {}
      },
      "source": [
        "# prepare data augmentation configuration\n",
        "train_datagen = ImageDataGenerator(\n",
        "    rescale=1. / 255,\n",
        "    shear_range=0.2,\n",
        "    zoom_range=0.2,\n",
        "    horizontal_flip=True)\n",
        "\n",
        "test_datagen = ImageDataGenerator(rescale=1. / 255)"
      ],
      "execution_count": 0,
      "outputs": []
    },
    {
      "cell_type": "code",
      "metadata": {
        "id": "rIKMGV0dO3Ln",
        "colab_type": "code",
        "outputId": "e6577b04-3270-497f-864d-ce7f1b8bc0a9",
        "colab": {
          "base_uri": "https://localhost:8080/",
          "height": 53
        }
      },
      "source": [
        "train_generator = train_datagen.flow_from_directory(\n",
        "    train_data_dir,\n",
        "    target_size=(img_height, img_width),\n",
        "    batch_size=batch_size,\n",
        "    class_mode='binary')\n",
        "\n",
        "validation_generator = test_datagen.flow_from_directory(\n",
        "    validation_data_dir,\n",
        "    target_size=(img_height, img_width),\n",
        "    batch_size=batch_size,\n",
        "    class_mode='binary')"
      ],
      "execution_count": 19,
      "outputs": [
        {
          "output_type": "stream",
          "text": [
            "Found 6794 images belonging to 2 classes.\n",
            "Found 970 images belonging to 2 classes.\n"
          ],
          "name": "stdout"
        }
      ]
    },
    {
      "cell_type": "code",
      "metadata": {
        "id": "hiJ2ZmZ8Y77l",
        "colab_type": "code",
        "outputId": "b0933d0e-b6be-4f91-bbec-05561b70b032",
        "colab": {
          "base_uri": "https://localhost:8080/",
          "height": 35
        }
      },
      "source": [
        "train_generator.class_indices"
      ],
      "execution_count": 20,
      "outputs": [
        {
          "output_type": "execute_result",
          "data": {
            "text/plain": [
              "{'fake': 0, 'real': 1}"
            ]
          },
          "metadata": {
            "tags": []
          },
          "execution_count": 20
        }
      ]
    },
    {
      "cell_type": "code",
      "metadata": {
        "id": "LNiwoRET_bci",
        "colab_type": "code",
        "colab": {}
      },
      "source": [
        "checkpoint_path = \"/content/drive/My Drive/Colab Notebooks/weights_orig_001.{epoch:02d}-{val_loss:.2f}.hdf5\"\n",
        "checkpoint_dir = os.path.dirname(checkpoint_path)\n",
        "from keras.callbacks import ModelCheckpoint\n",
        "#callback\n",
        "cp_callback = ModelCheckpoint(filepath=checkpoint_path, save_best_only=True,verbose=1)\n",
        "callbacks_list = [cp_callback]"
      ],
      "execution_count": 0,
      "outputs": []
    },
    {
      "cell_type": "code",
      "metadata": {
        "id": "z6QbOtuKTMgh",
        "colab_type": "code",
        "colab": {}
      },
      "source": [
        "# new_model.load_weights(checkpoint_path)"
      ],
      "execution_count": 0,
      "outputs": []
    },
    {
      "cell_type": "code",
      "metadata": {
        "id": "rbzuib2KLuxy",
        "colab_type": "code",
        "colab": {
          "base_uri": "https://localhost:8080/",
          "height": 35
        },
        "outputId": "69b55b17-ecc9-43b5-9c7f-3751f12de026"
      },
      "source": [
        "batch_size"
      ],
      "execution_count": 23,
      "outputs": [
        {
          "output_type": "execute_result",
          "data": {
            "text/plain": [
              "64"
            ]
          },
          "metadata": {
            "tags": []
          },
          "execution_count": 23
        }
      ]
    },
    {
      "cell_type": "code",
      "metadata": {
        "id": "nAz2qysSq0re",
        "colab_type": "code",
        "colab": {
          "base_uri": "https://localhost:8080/",
          "height": 1000
        },
        "outputId": "e0021e22-0d87-4848-f27c-1dcf05990eec"
      },
      "source": [
        "history = new_model.fit_generator(\n",
        "    train_generator,\n",
        "    steps_per_epoch=nb_train_samples // batch_size,\n",
        "        epochs=epochs,\n",
        "        validation_data=validation_generator,\n",
        "        validation_steps=nb_validation_samples // batch_size,\n",
        "        callbacks = callbacks_list)"
      ],
      "execution_count": 24,
      "outputs": [
        {
          "output_type": "stream",
          "text": [
            "Epoch 1/50\n",
            "106/106 [==============================] - 93s 877ms/step - loss: 0.8641 - accuracy: 0.5053 - val_loss: 0.6866 - val_accuracy: 0.5990\n",
            "\n",
            "Epoch 00001: val_loss improved from inf to 0.68660, saving model to /content/drive/My Drive/Colab Notebooks/weights_orig_001.01-0.69.hdf5\n",
            "Epoch 2/50\n",
            "106/106 [==============================] - 90s 847ms/step - loss: 0.6862 - accuracy: 0.5440 - val_loss: 0.6699 - val_accuracy: 0.5795\n",
            "\n",
            "Epoch 00002: val_loss improved from 0.68660 to 0.66989, saving model to /content/drive/My Drive/Colab Notebooks/weights_orig_001.02-0.67.hdf5\n",
            "Epoch 3/50\n",
            "106/106 [==============================] - 89s 841ms/step - loss: 0.6792 - accuracy: 0.5697 - val_loss: 0.6916 - val_accuracy: 0.5640\n",
            "\n",
            "Epoch 00003: val_loss did not improve from 0.66989\n",
            "Epoch 4/50\n",
            "106/106 [==============================] - 88s 831ms/step - loss: 0.6665 - accuracy: 0.5976 - val_loss: 0.6400 - val_accuracy: 0.6225\n",
            "\n",
            "Epoch 00004: val_loss improved from 0.66989 to 0.63998, saving model to /content/drive/My Drive/Colab Notebooks/weights_orig_001.04-0.64.hdf5\n",
            "Epoch 5/50\n",
            "106/106 [==============================] - 88s 832ms/step - loss: 0.6583 - accuracy: 0.6049 - val_loss: 0.6394 - val_accuracy: 0.6060\n",
            "\n",
            "Epoch 00005: val_loss improved from 0.63998 to 0.63942, saving model to /content/drive/My Drive/Colab Notebooks/weights_orig_001.05-0.64.hdf5\n",
            "Epoch 6/50\n",
            "106/106 [==============================] - 87s 825ms/step - loss: 0.6578 - accuracy: 0.6135 - val_loss: 0.7102 - val_accuracy: 0.6049\n",
            "\n",
            "Epoch 00006: val_loss did not improve from 0.63942\n",
            "Epoch 7/50\n",
            "106/106 [==============================] - 87s 816ms/step - loss: 0.6492 - accuracy: 0.6181 - val_loss: 0.7096 - val_accuracy: 0.5883\n",
            "\n",
            "Epoch 00007: val_loss did not improve from 0.63942\n",
            "Epoch 8/50\n",
            "106/106 [==============================] - 86s 808ms/step - loss: 0.6400 - accuracy: 0.6315 - val_loss: 0.6617 - val_accuracy: 0.6159\n",
            "\n",
            "Epoch 00008: val_loss did not improve from 0.63942\n",
            "Epoch 9/50\n",
            "106/106 [==============================] - 86s 808ms/step - loss: 0.6298 - accuracy: 0.6458 - val_loss: 0.5936 - val_accuracy: 0.6060\n",
            "\n",
            "Epoch 00009: val_loss improved from 0.63942 to 0.59356, saving model to /content/drive/My Drive/Colab Notebooks/weights_orig_001.09-0.59.hdf5\n",
            "Epoch 10/50\n",
            "106/106 [==============================] - 86s 807ms/step - loss: 0.6265 - accuracy: 0.6453 - val_loss: 0.6936 - val_accuracy: 0.6247\n",
            "\n",
            "Epoch 00010: val_loss did not improve from 0.59356\n",
            "Epoch 11/50\n",
            "106/106 [==============================] - 86s 810ms/step - loss: 0.6202 - accuracy: 0.6501 - val_loss: 0.5940 - val_accuracy: 0.6656\n",
            "\n",
            "Epoch 00011: val_loss did not improve from 0.59356\n",
            "Epoch 12/50\n",
            "106/106 [==============================] - 87s 819ms/step - loss: 0.6201 - accuracy: 0.6502 - val_loss: 0.6475 - val_accuracy: 0.6280\n",
            "\n",
            "Epoch 00012: val_loss did not improve from 0.59356\n",
            "Epoch 13/50\n",
            "106/106 [==============================] - 85s 804ms/step - loss: 0.6097 - accuracy: 0.6618 - val_loss: 0.6180 - val_accuracy: 0.6468\n",
            "\n",
            "Epoch 00013: val_loss did not improve from 0.59356\n",
            "Epoch 14/50\n",
            "106/106 [==============================] - 85s 802ms/step - loss: 0.6034 - accuracy: 0.6731 - val_loss: 0.6349 - val_accuracy: 0.6567\n",
            "\n",
            "Epoch 00014: val_loss did not improve from 0.59356\n",
            "Epoch 15/50\n",
            "106/106 [==============================] - 84s 793ms/step - loss: 0.5939 - accuracy: 0.6802 - val_loss: 0.6408 - val_accuracy: 0.6358\n",
            "\n",
            "Epoch 00015: val_loss did not improve from 0.59356\n",
            "Epoch 16/50\n",
            "106/106 [==============================] - 83s 787ms/step - loss: 0.5864 - accuracy: 0.6921 - val_loss: 0.5084 - val_accuracy: 0.6578\n",
            "\n",
            "Epoch 00016: val_loss improved from 0.59356 to 0.50844, saving model to /content/drive/My Drive/Colab Notebooks/weights_orig_001.16-0.51.hdf5\n",
            "Epoch 17/50\n",
            "106/106 [==============================] - 84s 793ms/step - loss: 0.5846 - accuracy: 0.6845 - val_loss: 0.6530 - val_accuracy: 0.6740\n",
            "\n",
            "Epoch 00017: val_loss did not improve from 0.50844\n",
            "Epoch 18/50\n",
            "106/106 [==============================] - 87s 822ms/step - loss: 0.5851 - accuracy: 0.6887 - val_loss: 0.6219 - val_accuracy: 0.6623\n",
            "\n",
            "Epoch 00018: val_loss did not improve from 0.50844\n",
            "Epoch 19/50\n",
            "106/106 [==============================] - 84s 789ms/step - loss: 0.5680 - accuracy: 0.6993 - val_loss: 0.6179 - val_accuracy: 0.6600\n",
            "\n",
            "Epoch 00019: val_loss did not improve from 0.50844\n",
            "Epoch 20/50\n",
            "106/106 [==============================] - 84s 793ms/step - loss: 0.5727 - accuracy: 0.7007 - val_loss: 0.5647 - val_accuracy: 0.6545\n",
            "\n",
            "Epoch 00020: val_loss did not improve from 0.50844\n",
            "Epoch 21/50\n",
            "106/106 [==============================] - 83s 787ms/step - loss: 0.5697 - accuracy: 0.6999 - val_loss: 0.5775 - val_accuracy: 0.6567\n",
            "\n",
            "Epoch 00021: val_loss did not improve from 0.50844\n",
            "Epoch 22/50\n",
            "106/106 [==============================] - 83s 780ms/step - loss: 0.5526 - accuracy: 0.7186 - val_loss: 0.6401 - val_accuracy: 0.6843\n",
            "\n",
            "Epoch 00022: val_loss did not improve from 0.50844\n",
            "Epoch 23/50\n",
            "106/106 [==============================] - 83s 786ms/step - loss: 0.5587 - accuracy: 0.7082 - val_loss: 0.6578 - val_accuracy: 0.6865\n",
            "\n",
            "Epoch 00023: val_loss did not improve from 0.50844\n",
            "Epoch 24/50\n",
            "106/106 [==============================] - 84s 788ms/step - loss: 0.5507 - accuracy: 0.7138 - val_loss: 0.6302 - val_accuracy: 0.6689\n",
            "\n",
            "Epoch 00024: val_loss did not improve from 0.50844\n",
            "Epoch 25/50\n",
            "106/106 [==============================] - 82s 778ms/step - loss: 0.5405 - accuracy: 0.7281 - val_loss: 0.6879 - val_accuracy: 0.6556\n",
            "\n",
            "Epoch 00025: val_loss did not improve from 0.50844\n",
            "Epoch 26/50\n",
            "106/106 [==============================] - 84s 793ms/step - loss: 0.5310 - accuracy: 0.7305 - val_loss: 0.5983 - val_accuracy: 0.6976\n",
            "\n",
            "Epoch 00026: val_loss did not improve from 0.50844\n",
            "Epoch 27/50\n",
            "106/106 [==============================] - 85s 798ms/step - loss: 0.5167 - accuracy: 0.7361 - val_loss: 0.6740 - val_accuracy: 0.6623\n",
            "\n",
            "Epoch 00027: val_loss did not improve from 0.50844\n",
            "Epoch 28/50\n",
            "106/106 [==============================] - 83s 788ms/step - loss: 0.5169 - accuracy: 0.7415 - val_loss: 0.6810 - val_accuracy: 0.6733\n",
            "\n",
            "Epoch 00028: val_loss did not improve from 0.50844\n",
            "Epoch 29/50\n",
            "106/106 [==============================] - 84s 790ms/step - loss: 0.4989 - accuracy: 0.7513 - val_loss: 0.5869 - val_accuracy: 0.6744\n",
            "\n",
            "Epoch 00029: val_loss did not improve from 0.50844\n",
            "Epoch 30/50\n",
            "106/106 [==============================] - 84s 797ms/step - loss: 0.4919 - accuracy: 0.7603 - val_loss: 0.6527 - val_accuracy: 0.6523\n",
            "\n",
            "Epoch 00030: val_loss did not improve from 0.50844\n",
            "Epoch 31/50\n",
            "106/106 [==============================] - 83s 787ms/step - loss: 0.4783 - accuracy: 0.7648 - val_loss: 0.5267 - val_accuracy: 0.6700\n",
            "\n",
            "Epoch 00031: val_loss did not improve from 0.50844\n",
            "Epoch 32/50\n",
            "106/106 [==============================] - 84s 790ms/step - loss: 0.4710 - accuracy: 0.7786 - val_loss: 0.4558 - val_accuracy: 0.6645\n",
            "\n",
            "Epoch 00032: val_loss improved from 0.50844 to 0.45579, saving model to /content/drive/My Drive/Colab Notebooks/weights_orig_001.32-0.46.hdf5\n",
            "Epoch 33/50\n",
            "106/106 [==============================] - 84s 796ms/step - loss: 0.4583 - accuracy: 0.7817 - val_loss: 0.7844 - val_accuracy: 0.6740\n",
            "\n",
            "Epoch 00033: val_loss did not improve from 0.45579\n",
            "Epoch 34/50\n",
            "106/106 [==============================] - 87s 822ms/step - loss: 0.4393 - accuracy: 0.7949 - val_loss: 0.8163 - val_accuracy: 0.6545\n",
            "\n",
            "Epoch 00034: val_loss did not improve from 0.45579\n",
            "Epoch 35/50\n",
            "106/106 [==============================] - 84s 790ms/step - loss: 0.4257 - accuracy: 0.7990 - val_loss: 0.6115 - val_accuracy: 0.6567\n",
            "\n",
            "Epoch 00035: val_loss did not improve from 0.45579\n",
            "Epoch 36/50\n",
            "106/106 [==============================] - 84s 791ms/step - loss: 0.4344 - accuracy: 0.7999 - val_loss: 0.7798 - val_accuracy: 0.6843\n",
            "\n",
            "Epoch 00036: val_loss did not improve from 0.45579\n",
            "Epoch 37/50\n",
            "106/106 [==============================] - 84s 788ms/step - loss: 0.4076 - accuracy: 0.8140 - val_loss: 0.7437 - val_accuracy: 0.6788\n",
            "\n",
            "Epoch 00037: val_loss did not improve from 0.45579\n",
            "Epoch 38/50\n",
            "106/106 [==============================] - 83s 781ms/step - loss: 0.3881 - accuracy: 0.8247 - val_loss: 0.6039 - val_accuracy: 0.6479\n",
            "\n",
            "Epoch 00038: val_loss did not improve from 0.45579\n",
            "Epoch 39/50\n",
            "106/106 [==============================] - 84s 793ms/step - loss: 0.3705 - accuracy: 0.8381 - val_loss: 0.6474 - val_accuracy: 0.6788\n",
            "\n",
            "Epoch 00039: val_loss did not improve from 0.45579\n",
            "Epoch 40/50\n",
            "106/106 [==============================] - 84s 791ms/step - loss: 0.3675 - accuracy: 0.8422 - val_loss: 0.6179 - val_accuracy: 0.6700\n",
            "\n",
            "Epoch 00040: val_loss did not improve from 0.45579\n",
            "Epoch 41/50\n",
            "106/106 [==============================] - 82s 775ms/step - loss: 0.3496 - accuracy: 0.8472 - val_loss: 0.7892 - val_accuracy: 0.6424\n",
            "\n",
            "Epoch 00041: val_loss did not improve from 0.45579\n",
            "Epoch 42/50\n",
            "106/106 [==============================] - 84s 791ms/step - loss: 0.3186 - accuracy: 0.8603 - val_loss: 0.8688 - val_accuracy: 0.6556\n",
            "\n",
            "Epoch 00042: val_loss did not improve from 0.45579\n",
            "Epoch 43/50\n",
            "106/106 [==============================] - 82s 777ms/step - loss: 0.3167 - accuracy: 0.8627 - val_loss: 0.9263 - val_accuracy: 0.6589\n",
            "\n",
            "Epoch 00043: val_loss did not improve from 0.45579\n",
            "Epoch 44/50\n",
            "106/106 [==============================] - 83s 780ms/step - loss: 0.2924 - accuracy: 0.8765 - val_loss: 0.7906 - val_accuracy: 0.6634\n",
            "\n",
            "Epoch 00044: val_loss did not improve from 0.45579\n",
            "Epoch 45/50\n",
            "106/106 [==============================] - 84s 791ms/step - loss: 0.2700 - accuracy: 0.8884 - val_loss: 0.9957 - val_accuracy: 0.6534\n",
            "\n",
            "Epoch 00045: val_loss did not improve from 0.45579\n",
            "Epoch 46/50\n",
            "106/106 [==============================] - 83s 781ms/step - loss: 0.2678 - accuracy: 0.8883 - val_loss: 0.8592 - val_accuracy: 0.6689\n",
            "\n",
            "Epoch 00046: val_loss did not improve from 0.45579\n",
            "Epoch 47/50\n",
            "106/106 [==============================] - 82s 771ms/step - loss: 0.2449 - accuracy: 0.9014 - val_loss: 0.6608 - val_accuracy: 0.6545\n",
            "\n",
            "Epoch 00047: val_loss did not improve from 0.45579\n",
            "Epoch 48/50\n",
            "106/106 [==============================] - 82s 775ms/step - loss: 0.2310 - accuracy: 0.9067 - val_loss: 0.6615 - val_accuracy: 0.6611\n",
            "\n",
            "Epoch 00048: val_loss did not improve from 0.45579\n",
            "Epoch 49/50\n",
            "106/106 [==============================] - 84s 794ms/step - loss: 0.2319 - accuracy: 0.9045 - val_loss: 0.7169 - val_accuracy: 0.6604\n",
            "\n",
            "Epoch 00049: val_loss did not improve from 0.45579\n",
            "Epoch 50/50\n",
            "106/106 [==============================] - 88s 834ms/step - loss: 0.2182 - accuracy: 0.9144 - val_loss: 0.7970 - val_accuracy: 0.6258\n",
            "\n",
            "Epoch 00050: val_loss did not improve from 0.45579\n"
          ],
          "name": "stdout"
        }
      ]
    },
    {
      "cell_type": "code",
      "metadata": {
        "id": "XlhWo3iY7mGD",
        "colab_type": "code",
        "colab": {}
      },
      "source": [
        "import matplotlib.pyplot as plt\n"
      ],
      "execution_count": 0,
      "outputs": []
    },
    {
      "cell_type": "markdown",
      "metadata": {
        "id": "2sTxsm2AR8eu",
        "colab_type": "text"
      },
      "source": [
        "The following graph is from a previous run of 50 epochs - the weights obtained from that run went unsaved. No model parameters were changed for the latest run of 50 epochs as seen above."
      ]
    },
    {
      "cell_type": "code",
      "metadata": {
        "id": "OQz-VA-gO9C2",
        "colab_type": "code",
        "outputId": "2e898425-a81f-4b23-c25e-a36b5bee0980",
        "colab": {
          "base_uri": "https://localhost:8080/",
          "height": 573
        }
      },
      "source": [
        "# UNSAVED WEIGHTS VERSION \n",
        "# summarize history for accuracy\n",
        "plt.plot(history.history['accuracy'])\n",
        "plt.plot(history.history['val_accuracy'])\n",
        "plt.title('model accuracy')\n",
        "plt.ylabel('accuracy')\n",
        "plt.xlabel('epoch')\n",
        "plt.legend(['train', 'validation'], loc='upper left')\n",
        "plt.show()\n",
        "# summarize history for loss\n",
        "plt.plot(history.history['loss'])\n",
        "plt.plot(history.history['val_loss'])\n",
        "plt.title('model loss')\n",
        "plt.ylabel('loss')\n",
        "plt.xlabel('epoch')\n",
        "plt.legend(['train', 'validation'], loc='upper left')\n",
        "plt.show()"
      ],
      "execution_count": 28,
      "outputs": [
        {
          "output_type": "display_data",
          "data": {
            "image/png": "[encoded data removed]",
            "text/plain": [
              "<Figure size 432x288 with 1 Axes>"
            ]
          },
          "metadata": {
            "tags": [],
            "needs_background": "light"
          }
        },
        {
          "output_type": "display_data",
          "data": {
            "image/png": "[encoded data removed]",
            "text/plain": [
              "<Figure size 432x288 with 1 Axes>"
            ]
          },
          "metadata": {
            "tags": [],
            "needs_background": "light"
          }
        }
      ]
    },
    {
      "cell_type": "code",
      "metadata": {
        "id": "h2BtFbqgBjNQ",
        "colab_type": "code",
        "colab": {}
      },
      "source": [
        ""
      ],
      "execution_count": 0,
      "outputs": []
    }
  ]
}
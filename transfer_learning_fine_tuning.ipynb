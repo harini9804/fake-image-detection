{
  "nbformat": 4,
  "nbformat_minor": 0,
  "metadata": {
    "colab": {
      "name": "transfer learning fine tuning.ipynb",
      "provenance": [],
      "collapsed_sections": [],
      "mount_file_id": "1GJYzTj8DYWtkNMAFb8k__cgU0kEQzcvj",
      "authorship_tag": "ABX9TyNHZqNzmYA3BXWAjzzFZ5y6",
      "include_colab_link": true
    },
    "kernelspec": {
      "name": "python3",
      "display_name": "Python 3"
    },
    "accelerator": "GPU"
  },
  "cells": [
    {
      "cell_type": "markdown",
      "metadata": {
        "id": "view-in-github",
        "colab_type": "text"
      },
      "source": [
        "<a href=\"https://colab.research.google.com/github/harini9804/fake-image-detection/blob/master/transfer_learning_fine_tuning.ipynb\" target=\"_parent\"><img src=\"https://colab.research.google.com/assets/colab-badge.svg\" alt=\"Open In Colab\"/></a>"
      ]
    },
    {
      "cell_type": "code",
      "metadata": {
        "id": "PeVydiucvw1X",
        "colab_type": "code",
        "outputId": "7057af80-2b52-4c2c-8b69-8d7245e306db",
        "colab": {
          "base_uri": "https://localhost:8080/",
          "height": 35
        }
      },
      "source": [
        "%cd /content/drive/My Drive/Colab Notebooks"
      ],
      "execution_count": 0,
      "outputs": [
        {
          "output_type": "stream",
          "text": [
            "/content/drive/My Drive/Colab Notebooks\n"
          ],
          "name": "stdout"
        }
      ]
    },
    {
      "cell_type": "code",
      "metadata": {
        "id": "8YnqYs2RtRKG",
        "colab_type": "code",
        "colab": {}
      },
      "source": [
        "%cp ./weibo_data_split.zip /content"
      ],
      "execution_count": 0,
      "outputs": []
    },
    {
      "cell_type": "code",
      "metadata": {
        "id": "Rj7uSgY7wT3N",
        "colab_type": "code",
        "colab": {}
      },
      "source": [
        "!unzip weibo_data_split.zip -d /content/"
      ],
      "execution_count": 0,
      "outputs": []
    },
    {
      "cell_type": "code",
      "metadata": {
        "id": "_rGZ99jMMD3T",
        "colab_type": "code",
        "colab": {
          "base_uri": "https://localhost:8080/",
          "height": 82
        },
        "outputId": "90b1387c-a8ac-48f6-fa68-44b050e0e0bd"
      },
      "source": [
        "from keras import applications\n",
        "from keras.preprocessing.image import ImageDataGenerator\n",
        "from keras import optimizers\n",
        "from keras.models import Sequential\n",
        "from keras.layers import Dropout, Flatten, Dense\n",
        "import os"
      ],
      "execution_count": 1,
      "outputs": [
        {
          "output_type": "stream",
          "text": [
            "Using TensorFlow backend.\n"
          ],
          "name": "stderr"
        },
        {
          "output_type": "display_data",
          "data": {
            "text/html": [
              "<p style=\"color: red;\">\n",
              "The default version of TensorFlow in Colab will soon switch to TensorFlow 2.x.<br>\n",
              "We recommend you <a href=\"https://www.tensorflow.org/guide/migrate\" target=\"_blank\">upgrade</a> now \n",
              "or ensure your notebook will continue to use TensorFlow 1.x via the <code>%tensorflow_version 1.x</code> magic:\n",
              "<a href=\"https://colab.research.google.com/notebooks/tensorflow_version.ipynb\" target=\"_blank\">more info</a>.</p>\n"
            ],
            "text/plain": [
              "<IPython.core.display.HTML object>"
            ]
          },
          "metadata": {
            "tags": []
          }
        }
      ]
    },
    {
      "cell_type": "code",
      "metadata": {
        "id": "GTc8OvyESI7V",
        "colab_type": "code",
        "colab": {}
      },
      "source": [
        "import numpy as np"
      ],
      "execution_count": 0,
      "outputs": []
    },
    {
      "cell_type": "code",
      "metadata": {
        "id": "vn0OLDkkMKhL",
        "colab_type": "code",
        "colab": {}
      },
      "source": [
        "# path to the model weights files.\n",
        "weights_path = '../keras/examples/vgg16_weights.h5'\n",
        "top_model_weights_path = '/content/drive/My Drive/Colab Notebooks/bottleneck_fc_model.h5'\n",
        "# dimensions of our images.\n",
        "img_width, img_height = 150, 150"
      ],
      "execution_count": 0,
      "outputs": []
    },
    {
      "cell_type": "code",
      "metadata": {
        "id": "BlksxLhMMM3x",
        "colab_type": "code",
        "colab": {}
      },
      "source": [
        "base_dir = '/content/weibo_data_split'\n",
        "train_data_dir = base_dir +'/train'\n",
        "validation_data_dir = base_dir +'/validation'\n",
        "\n",
        "nb_train_samples = 2*len(os.listdir(train_data_dir+'/fake'))\n",
        "nb_validation_samples = 2*len(os.listdir(validation_data_dir+'/fake'))\n",
        "epochs = 50\n",
        "batch_size = 64"
      ],
      "execution_count": 0,
      "outputs": []
    },
    {
      "cell_type": "code",
      "metadata": {
        "id": "rL5mqxvLMOkl",
        "colab_type": "code",
        "colab": {
          "base_uri": "https://localhost:8080/",
          "height": 413
        },
        "outputId": "46b3c259-d45d-40cc-e0a6-5e06bdc34274"
      },
      "source": [
        "# build the VGG16 network\n",
        "model = applications.VGG16(weights='imagenet', include_top=False, input_shape=(img_width, img_height, 3))\n",
        "print('Model loaded.')"
      ],
      "execution_count": 5,
      "outputs": [
        {
          "output_type": "stream",
          "text": [
            "WARNING:tensorflow:From /usr/local/lib/python3.6/dist-packages/keras/backend/tensorflow_backend.py:66: The name tf.get_default_graph is deprecated. Please use tf.compat.v1.get_default_graph instead.\n",
            "\n",
            "WARNING:tensorflow:From /usr/local/lib/python3.6/dist-packages/keras/backend/tensorflow_backend.py:541: The name tf.placeholder is deprecated. Please use tf.compat.v1.placeholder instead.\n",
            "\n",
            "WARNING:tensorflow:From /usr/local/lib/python3.6/dist-packages/keras/backend/tensorflow_backend.py:4432: The name tf.random_uniform is deprecated. Please use tf.random.uniform instead.\n",
            "\n",
            "WARNING:tensorflow:From /usr/local/lib/python3.6/dist-packages/keras/backend/tensorflow_backend.py:4267: The name tf.nn.max_pool is deprecated. Please use tf.nn.max_pool2d instead.\n",
            "\n",
            "WARNING:tensorflow:From /usr/local/lib/python3.6/dist-packages/keras/backend/tensorflow_backend.py:190: The name tf.get_default_session is deprecated. Please use tf.compat.v1.get_default_session instead.\n",
            "\n",
            "WARNING:tensorflow:From /usr/local/lib/python3.6/dist-packages/keras/backend/tensorflow_backend.py:197: The name tf.ConfigProto is deprecated. Please use tf.compat.v1.ConfigProto instead.\n",
            "\n",
            "WARNING:tensorflow:From /usr/local/lib/python3.6/dist-packages/keras/backend/tensorflow_backend.py:203: The name tf.Session is deprecated. Please use tf.compat.v1.Session instead.\n",
            "\n",
            "WARNING:tensorflow:From /usr/local/lib/python3.6/dist-packages/keras/backend/tensorflow_backend.py:207: The name tf.global_variables is deprecated. Please use tf.compat.v1.global_variables instead.\n",
            "\n",
            "WARNING:tensorflow:From /usr/local/lib/python3.6/dist-packages/keras/backend/tensorflow_backend.py:216: The name tf.is_variable_initialized is deprecated. Please use tf.compat.v1.is_variable_initialized instead.\n",
            "\n",
            "WARNING:tensorflow:From /usr/local/lib/python3.6/dist-packages/keras/backend/tensorflow_backend.py:223: The name tf.variables_initializer is deprecated. Please use tf.compat.v1.variables_initializer instead.\n",
            "\n",
            "Model loaded.\n"
          ],
          "name": "stdout"
        }
      ]
    },
    {
      "cell_type": "code",
      "metadata": {
        "id": "s8N0QmSSM3oH",
        "colab_type": "code",
        "colab": {
          "base_uri": "https://localhost:8080/",
          "height": 127
        },
        "outputId": "842c8504-0da0-4904-d0e6-7a0bd9aa1c09"
      },
      "source": [
        "top_model = Sequential()\n",
        "top_model.add(Flatten(input_shape=model.output_shape[1:]))\n",
        "top_model.add(Dense(256, activation='relu'))\n",
        "top_model.add(Dropout(0.5))\n",
        "top_model.add(Dense(1, activation='sigmoid'))"
      ],
      "execution_count": 6,
      "outputs": [
        {
          "output_type": "stream",
          "text": [
            "WARNING:tensorflow:From /usr/local/lib/python3.6/dist-packages/keras/backend/tensorflow_backend.py:148: The name tf.placeholder_with_default is deprecated. Please use tf.compat.v1.placeholder_with_default instead.\n",
            "\n",
            "WARNING:tensorflow:From /usr/local/lib/python3.6/dist-packages/keras/backend/tensorflow_backend.py:3733: calling dropout (from tensorflow.python.ops.nn_ops) with keep_prob is deprecated and will be removed in a future version.\n",
            "Instructions for updating:\n",
            "Please use `rate` instead of `keep_prob`. Rate should be set to `rate = 1 - keep_prob`.\n"
          ],
          "name": "stdout"
        }
      ]
    },
    {
      "cell_type": "code",
      "metadata": {
        "id": "0TrOFp8Hf1Zk",
        "colab_type": "code",
        "colab": {}
      },
      "source": [
        "# note that it is necessary to start with a fully-trained\n",
        "# classifier, including the top classifier,\n",
        "# in order to successfully do fine-tuning\n",
        "top_model.load_weights(top_model_weights_path)"
      ],
      "execution_count": 0,
      "outputs": []
    },
    {
      "cell_type": "code",
      "metadata": {
        "id": "An8wAO4rOK-P",
        "colab_type": "code",
        "colab": {}
      },
      "source": [
        "new_model = Sequential()\n",
        "new_model.add(model)\n",
        "new_model.add(top_model)\n"
      ],
      "execution_count": 0,
      "outputs": []
    },
    {
      "cell_type": "code",
      "metadata": {
        "id": "JTQ2lfUDUdlg",
        "colab_type": "code",
        "colab": {}
      },
      "source": [
        "new_model.load_weights('/content/drive/My Drive/Colab Notebooks/cp_traLearn.ckpt')"
      ],
      "execution_count": 0,
      "outputs": []
    },
    {
      "cell_type": "code",
      "metadata": {
        "id": "5ju_SBuROvED",
        "colab_type": "code",
        "colab": {}
      },
      "source": [
        "# set the first 25 layers (up to the last conv block)\n",
        "# to non-trainable (weights will not be updated)\n",
        "for layer in new_model.layers[:25]:\n",
        "    layer.trainable = False"
      ],
      "execution_count": 0,
      "outputs": []
    },
    {
      "cell_type": "code",
      "metadata": {
        "id": "co6l8kLgOxJ7",
        "colab_type": "code",
        "outputId": "bcb75bee-6688-4589-b18e-fefe95db0d3b",
        "colab": {
          "base_uri": "https://localhost:8080/",
          "height": 162
        }
      },
      "source": [
        "# compile the model with a SGD/momentum optimizer\n",
        "# and a very slow learning rate.\n",
        "new_model.compile(loss='binary_crossentropy',\n",
        "              optimizer=optimizers.SGD(lr=1e-3, momentum = 0.9),\n",
        "              metrics=['accuracy'])"
      ],
      "execution_count": 11,
      "outputs": [
        {
          "output_type": "stream",
          "text": [
            "WARNING:tensorflow:From /usr/local/lib/python3.6/dist-packages/keras/optimizers.py:793: The name tf.train.Optimizer is deprecated. Please use tf.compat.v1.train.Optimizer instead.\n",
            "\n",
            "WARNING:tensorflow:From /usr/local/lib/python3.6/dist-packages/keras/backend/tensorflow_backend.py:3657: The name tf.log is deprecated. Please use tf.math.log instead.\n",
            "\n",
            "WARNING:tensorflow:From /tensorflow-1.15.0/python3.6/tensorflow_core/python/ops/nn_impl.py:183: where (from tensorflow.python.ops.array_ops) is deprecated and will be removed in a future version.\n",
            "Instructions for updating:\n",
            "Use tf.where in 2.0, which has the same broadcast rule as np.where\n"
          ],
          "name": "stdout"
        }
      ]
    },
    {
      "cell_type": "code",
      "metadata": {
        "id": "-F7jr0DnO0Vz",
        "colab_type": "code",
        "colab": {}
      },
      "source": [
        "# prepare data augmentation configuration\n",
        "train_datagen = ImageDataGenerator(\n",
        "    rescale=1. / 255,\n",
        "    shear_range=0.2,\n",
        "    zoom_range=0.2,\n",
        "    horizontal_flip=True)\n",
        "\n",
        "test_datagen = ImageDataGenerator(rescale=1. / 255)"
      ],
      "execution_count": 0,
      "outputs": []
    },
    {
      "cell_type": "code",
      "metadata": {
        "id": "rIKMGV0dO3Ln",
        "colab_type": "code",
        "outputId": "b50a65b0-f4e1-4127-8a51-b9be5f79fb46",
        "colab": {
          "base_uri": "https://localhost:8080/",
          "height": 53
        }
      },
      "source": [
        "train_generator = train_datagen.flow_from_directory(\n",
        "    train_data_dir,\n",
        "    target_size=(img_height, img_width),\n",
        "    batch_size=batch_size,\n",
        "    class_mode='binary')\n",
        "\n",
        "validation_generator = test_datagen.flow_from_directory(\n",
        "    validation_data_dir,\n",
        "    target_size=(img_height, img_width),\n",
        "    batch_size=batch_size,\n",
        "    class_mode='binary')"
      ],
      "execution_count": 13,
      "outputs": [
        {
          "output_type": "stream",
          "text": [
            "Found 6794 images belonging to 2 classes.\n",
            "Found 970 images belonging to 2 classes.\n"
          ],
          "name": "stdout"
        }
      ]
    },
    {
      "cell_type": "code",
      "metadata": {
        "id": "hiJ2ZmZ8Y77l",
        "colab_type": "code",
        "outputId": "39766805-73a1-4875-daff-360c12f6f06a",
        "colab": {
          "base_uri": "https://localhost:8080/",
          "height": 35
        }
      },
      "source": [
        "train_generator.class_indices"
      ],
      "execution_count": 14,
      "outputs": [
        {
          "output_type": "execute_result",
          "data": {
            "text/plain": [
              "{'fake': 0, 'real': 1}"
            ]
          },
          "metadata": {
            "tags": []
          },
          "execution_count": 14
        }
      ]
    },
    {
      "cell_type": "code",
      "metadata": {
        "id": "LNiwoRET_bci",
        "colab_type": "code",
        "colab": {}
      },
      "source": [
        "checkpoint_path = \"/content/drive/My Drive/Colab Notebooks/cp_traLearn.ckpt\"\n",
        "checkpoint_dir = os.path.dirname(checkpoint_path)\n",
        "from keras.callbacks import ModelCheckpoint\n",
        "#callback\n",
        "cp_callback = ModelCheckpoint(filepath=checkpoint_path, save_weights_only=True,verbose=1)\n",
        "callbacks_list = [cp_callback]"
      ],
      "execution_count": 0,
      "outputs": []
    },
    {
      "cell_type": "code",
      "metadata": {
        "id": "7_1Lla5OVDz-",
        "colab_type": "code",
        "colab": {}
      },
      "source": [
        "new_model.load_weights(checkpoint_path)"
      ],
      "execution_count": 0,
      "outputs": []
    },
    {
      "cell_type": "code",
      "metadata": {
        "id": "GkZ2-gWWO5bw",
        "colab_type": "code",
        "outputId": "825735e4-4427-47d0-eb5a-41f693364ea0",
        "colab": {
          "base_uri": "https://localhost:8080/",
          "height": 1000
        }
      },
      "source": [
        "# fine-tune the model\n",
        "history = new_model.fit_generator(\n",
        "    train_generator,\n",
        "    steps_per_epoch=nb_train_samples // batch_size,\n",
        "        epochs=epochs,\n",
        "        validation_data=validation_generator,\n",
        "        validation_steps=nb_validation_samples // batch_size,\n",
        "        callbacks = callbacks_list)"
      ],
      "execution_count": 0,
      "outputs": [
        {
          "output_type": "stream",
          "text": [
            "WARNING:tensorflow:From /usr/local/lib/python3.6/dist-packages/keras/backend/tensorflow_backend.py:1033: The name tf.assign_add is deprecated. Please use tf.compat.v1.assign_add instead.\n",
            "\n",
            "Epoch 1/50\n",
            "106/106 [==============================] - 85s 806ms/step - loss: 5.1920 - acc: 0.6507 - val_loss: 5.2589 - val_acc: 0.6396\n",
            "\n",
            "Epoch 00001: saving model to /content/drive/My Drive/Colab Notebooks/cp_traLearn.ckpt\n",
            "Epoch 2/50\n",
            "106/106 [==============================] - 84s 791ms/step - loss: 5.2606 - acc: 0.6468 - val_loss: 5.3193 - val_acc: 0.6369\n",
            "\n",
            "Epoch 00002: saving model to /content/drive/My Drive/Colab Notebooks/cp_traLearn.ckpt\n",
            "Epoch 3/50\n",
            "106/106 [==============================] - 84s 789ms/step - loss: 5.2651 - acc: 0.6452 - val_loss: 5.2732 - val_acc: 0.6380\n",
            "\n",
            "Epoch 00003: saving model to /content/drive/My Drive/Colab Notebooks/cp_traLearn.ckpt\n",
            "Epoch 4/50\n",
            "106/106 [==============================] - 83s 786ms/step - loss: 5.3096 - acc: 0.6407 - val_loss: 5.0605 - val_acc: 0.6512\n",
            "\n",
            "Epoch 00004: saving model to /content/drive/My Drive/Colab Notebooks/cp_traLearn.ckpt\n",
            "Epoch 5/50\n",
            "106/106 [==============================] - 83s 784ms/step - loss: 5.3607 - acc: 0.6379 - val_loss: 5.2790 - val_acc: 0.6424\n",
            "\n",
            "Epoch 00005: saving model to /content/drive/My Drive/Colab Notebooks/cp_traLearn.ckpt\n",
            "Epoch 6/50\n",
            "106/106 [==============================] - 83s 779ms/step - loss: 5.3893 - acc: 0.6381 - val_loss: 4.9250 - val_acc: 0.6623\n",
            "\n",
            "Epoch 00006: saving model to /content/drive/My Drive/Colab Notebooks/cp_traLearn.ckpt\n",
            "Epoch 7/50\n",
            "106/106 [==============================] - 82s 775ms/step - loss: 5.2668 - acc: 0.6442 - val_loss: 5.7701 - val_acc: 0.6026\n",
            "\n",
            "Epoch 00007: saving model to /content/drive/My Drive/Colab Notebooks/cp_traLearn.ckpt\n",
            "Epoch 8/50\n",
            "106/106 [==============================] - 81s 762ms/step - loss: 5.2732 - acc: 0.6434 - val_loss: 4.9305 - val_acc: 0.6667\n",
            "\n",
            "Epoch 00008: saving model to /content/drive/My Drive/Colab Notebooks/cp_traLearn.ckpt\n",
            "Epoch 9/50\n",
            "106/106 [==============================] - 80s 755ms/step - loss: 5.3057 - acc: 0.6425 - val_loss: 4.8727 - val_acc: 0.6556\n",
            "\n",
            "Epoch 00009: saving model to /content/drive/My Drive/Colab Notebooks/cp_traLearn.ckpt\n",
            "Epoch 10/50\n",
            "106/106 [==============================] - 80s 756ms/step - loss: 5.3629 - acc: 0.6404 - val_loss: 5.5599 - val_acc: 0.6247\n",
            "\n",
            "Epoch 00010: saving model to /content/drive/My Drive/Colab Notebooks/cp_traLearn.ckpt\n",
            "Epoch 11/50\n",
            "106/106 [==============================] - 82s 770ms/step - loss: 5.2590 - acc: 0.6471 - val_loss: 5.2360 - val_acc: 0.6402\n",
            "\n",
            "Epoch 00011: saving model to /content/drive/My Drive/Colab Notebooks/cp_traLearn.ckpt\n",
            "Epoch 12/50\n",
            "106/106 [==============================] - 81s 762ms/step - loss: 5.2865 - acc: 0.6463 - val_loss: 5.0776 - val_acc: 0.6512\n",
            "\n",
            "Epoch 00012: saving model to /content/drive/My Drive/Colab Notebooks/cp_traLearn.ckpt\n",
            "Epoch 13/50\n",
            "106/106 [==============================] - 82s 770ms/step - loss: 5.3153 - acc: 0.6402 - val_loss: 5.3807 - val_acc: 0.6347\n",
            "\n",
            "Epoch 00013: saving model to /content/drive/My Drive/Colab Notebooks/cp_traLearn.ckpt\n",
            "Epoch 14/50\n",
            "106/106 [==============================] - 81s 760ms/step - loss: 5.3996 - acc: 0.6367 - val_loss: 5.1862 - val_acc: 0.6446\n",
            "\n",
            "Epoch 00014: saving model to /content/drive/My Drive/Colab Notebooks/cp_traLearn.ckpt\n",
            "Epoch 15/50\n",
            "106/106 [==============================] - 81s 768ms/step - loss: 5.3231 - acc: 0.6406 - val_loss: 5.1682 - val_acc: 0.6446\n",
            "\n",
            "Epoch 00015: saving model to /content/drive/My Drive/Colab Notebooks/cp_traLearn.ckpt\n",
            "Epoch 16/50\n",
            "106/106 [==============================] - 81s 761ms/step - loss: 5.4997 - acc: 0.6299 - val_loss: 5.2405 - val_acc: 0.6413\n",
            "\n",
            "Epoch 00016: saving model to /content/drive/My Drive/Colab Notebooks/cp_traLearn.ckpt\n",
            "Epoch 17/50\n",
            "106/106 [==============================] - 82s 774ms/step - loss: 5.2666 - acc: 0.6454 - val_loss: 5.1585 - val_acc: 0.6458\n",
            "\n",
            "Epoch 00017: saving model to /content/drive/My Drive/Colab Notebooks/cp_traLearn.ckpt\n",
            "Epoch 18/50\n",
            "106/106 [==============================] - 85s 806ms/step - loss: 5.3908 - acc: 0.6331 - val_loss: 5.2569 - val_acc: 0.6391\n",
            "\n",
            "Epoch 00018: saving model to /content/drive/My Drive/Colab Notebooks/cp_traLearn.ckpt\n",
            "Epoch 19/50\n",
            "106/106 [==============================] - 81s 761ms/step - loss: 5.1387 - acc: 0.6536 - val_loss: 5.1215 - val_acc: 0.6534\n",
            "\n",
            "Epoch 00019: saving model to /content/drive/My Drive/Colab Notebooks/cp_traLearn.ckpt\n",
            "Epoch 20/50\n",
            "106/106 [==============================] - 81s 764ms/step - loss: 5.3303 - acc: 0.6437 - val_loss: 5.4197 - val_acc: 0.6269\n",
            "\n",
            "Epoch 00020: saving model to /content/drive/My Drive/Colab Notebooks/cp_traLearn.ckpt\n",
            "Epoch 21/50\n",
            "106/106 [==============================] - 80s 758ms/step - loss: 5.3419 - acc: 0.6377 - val_loss: 5.3614 - val_acc: 0.6313\n",
            "\n",
            "Epoch 00021: saving model to /content/drive/My Drive/Colab Notebooks/cp_traLearn.ckpt\n",
            "Epoch 22/50\n",
            "106/106 [==============================] - 81s 768ms/step - loss: 5.3971 - acc: 0.6332 - val_loss: 4.9269 - val_acc: 0.6656\n",
            "\n",
            "Epoch 00022: saving model to /content/drive/My Drive/Colab Notebooks/cp_traLearn.ckpt\n",
            "Epoch 23/50\n",
            "106/106 [==============================] - 82s 772ms/step - loss: 5.3277 - acc: 0.6425 - val_loss: 5.2732 - val_acc: 0.6347\n",
            "\n",
            "Epoch 00023: saving model to /content/drive/My Drive/Colab Notebooks/cp_traLearn.ckpt\n",
            "Epoch 24/50\n",
            "106/106 [==============================] - 82s 769ms/step - loss: 5.4322 - acc: 0.6348 - val_loss: 5.4501 - val_acc: 0.6325\n",
            "\n",
            "Epoch 00024: saving model to /content/drive/My Drive/Colab Notebooks/cp_traLearn.ckpt\n",
            "Epoch 25/50\n",
            "106/106 [==============================] - 82s 770ms/step - loss: 5.2828 - acc: 0.6464 - val_loss: 4.9539 - val_acc: 0.6589\n",
            "\n",
            "Epoch 00025: saving model to /content/drive/My Drive/Colab Notebooks/cp_traLearn.ckpt\n",
            "Epoch 26/50\n",
            "106/106 [==============================] - 81s 762ms/step - loss: 5.2433 - acc: 0.6484 - val_loss: 5.3151 - val_acc: 0.6358\n",
            "\n",
            "Epoch 00026: saving model to /content/drive/My Drive/Colab Notebooks/cp_traLearn.ckpt\n",
            "Epoch 27/50\n",
            "106/106 [==============================] - 82s 770ms/step - loss: 5.2701 - acc: 0.6450 - val_loss: 5.1896 - val_acc: 0.6391\n",
            "\n",
            "Epoch 00027: saving model to /content/drive/My Drive/Colab Notebooks/cp_traLearn.ckpt\n",
            "Epoch 28/50\n",
            "106/106 [==============================] - 81s 761ms/step - loss: 5.2264 - acc: 0.6481 - val_loss: 5.3327 - val_acc: 0.6391\n",
            "\n",
            "Epoch 00028: saving model to /content/drive/My Drive/Colab Notebooks/cp_traLearn.ckpt\n",
            "Epoch 29/50\n",
            "106/106 [==============================] - 82s 769ms/step - loss: 5.2288 - acc: 0.6492 - val_loss: 5.0764 - val_acc: 0.6523\n",
            "\n",
            "Epoch 00029: saving model to /content/drive/My Drive/Colab Notebooks/cp_traLearn.ckpt\n",
            "Epoch 30/50\n",
            "106/106 [==============================] - 80s 759ms/step - loss: 5.2589 - acc: 0.6480 - val_loss: 5.1843 - val_acc: 0.6424\n",
            "\n",
            "Epoch 00030: saving model to /content/drive/My Drive/Colab Notebooks/cp_traLearn.ckpt\n",
            "Epoch 31/50\n",
            "106/106 [==============================] - 80s 758ms/step - loss: 5.3104 - acc: 0.6411 - val_loss: 5.3071 - val_acc: 0.6391\n",
            "\n",
            "Epoch 00031: saving model to /content/drive/My Drive/Colab Notebooks/cp_traLearn.ckpt\n",
            "Epoch 32/50\n",
            "106/106 [==============================] - 81s 767ms/step - loss: 5.2208 - acc: 0.6464 - val_loss: 5.2170 - val_acc: 0.6402\n",
            "\n",
            "Epoch 00032: saving model to /content/drive/My Drive/Colab Notebooks/cp_traLearn.ckpt\n",
            "Epoch 33/50\n",
            "106/106 [==============================] - 82s 778ms/step - loss: 5.3991 - acc: 0.6357 - val_loss: 5.2083 - val_acc: 0.6427\n",
            "\n",
            "Epoch 00033: saving model to /content/drive/My Drive/Colab Notebooks/cp_traLearn.ckpt\n",
            "Epoch 34/50\n",
            "106/106 [==============================] - 85s 805ms/step - loss: 5.1709 - acc: 0.6520 - val_loss: 5.3025 - val_acc: 0.6380\n",
            "\n",
            "Epoch 00034: saving model to /content/drive/My Drive/Colab Notebooks/cp_traLearn.ckpt\n",
            "Epoch 35/50\n",
            "106/106 [==============================] - 81s 761ms/step - loss: 5.2782 - acc: 0.6434 - val_loss: 5.1761 - val_acc: 0.6446\n",
            "\n",
            "Epoch 00035: saving model to /content/drive/My Drive/Colab Notebooks/cp_traLearn.ckpt\n",
            "Epoch 36/50\n",
            "106/106 [==============================] - 82s 772ms/step - loss: 5.3156 - acc: 0.6384 - val_loss: 5.2860 - val_acc: 0.6369\n",
            "\n",
            "Epoch 00036: saving model to /content/drive/My Drive/Colab Notebooks/cp_traLearn.ckpt\n",
            "Epoch 37/50\n",
            "106/106 [==============================] - 80s 757ms/step - loss: 5.2814 - acc: 0.6455 - val_loss: 5.0180 - val_acc: 0.6578\n",
            "\n",
            "Epoch 00037: saving model to /content/drive/My Drive/Colab Notebooks/cp_traLearn.ckpt\n",
            "Epoch 38/50\n",
            "106/106 [==============================] - 81s 760ms/step - loss: 5.3832 - acc: 0.6372 - val_loss: 5.2356 - val_acc: 0.6380\n",
            "\n",
            "Epoch 00038: saving model to /content/drive/My Drive/Colab Notebooks/cp_traLearn.ckpt\n",
            "Epoch 39/50\n",
            "106/106 [==============================] - 82s 777ms/step - loss: 5.2959 - acc: 0.6418 - val_loss: 5.3431 - val_acc: 0.6347\n",
            "\n",
            "Epoch 00039: saving model to /content/drive/My Drive/Colab Notebooks/cp_traLearn.ckpt\n",
            "Epoch 40/50\n",
            "106/106 [==============================] - 80s 757ms/step - loss: 5.2271 - acc: 0.6504 - val_loss: 5.3394 - val_acc: 0.6347\n",
            "\n",
            "Epoch 00040: saving model to /content/drive/My Drive/Colab Notebooks/cp_traLearn.ckpt\n",
            "Epoch 41/50\n",
            "106/106 [==============================] - 81s 763ms/step - loss: 5.2896 - acc: 0.6435 - val_loss: 5.1514 - val_acc: 0.6468\n",
            "\n",
            "Epoch 00041: saving model to /content/drive/My Drive/Colab Notebooks/cp_traLearn.ckpt\n",
            "Epoch 42/50\n",
            "106/106 [==============================] - 81s 765ms/step - loss: 5.3787 - acc: 0.6377 - val_loss: 5.0535 - val_acc: 0.6545\n",
            "\n",
            "Epoch 00042: saving model to /content/drive/My Drive/Colab Notebooks/cp_traLearn.ckpt\n",
            "Epoch 43/50\n",
            "106/106 [==============================] - 81s 764ms/step - loss: 5.2634 - acc: 0.6458 - val_loss: 5.3836 - val_acc: 0.6313\n",
            "\n",
            "Epoch 00043: saving model to /content/drive/My Drive/Colab Notebooks/cp_traLearn.ckpt\n",
            "Epoch 44/50\n",
            "106/106 [==============================] - 81s 764ms/step - loss: 5.2219 - acc: 0.6472 - val_loss: 5.1475 - val_acc: 0.6468\n",
            "\n",
            "Epoch 00044: saving model to /content/drive/My Drive/Colab Notebooks/cp_traLearn.ckpt\n",
            "Epoch 45/50\n",
            "106/106 [==============================] - 82s 769ms/step - loss: 5.1860 - acc: 0.6511 - val_loss: 5.2945 - val_acc: 0.6402\n",
            "\n",
            "Epoch 00045: saving model to /content/drive/My Drive/Colab Notebooks/cp_traLearn.ckpt\n",
            "Epoch 46/50\n",
            "106/106 [==============================] - 81s 766ms/step - loss: 5.2645 - acc: 0.6462 - val_loss: 5.2350 - val_acc: 0.6369\n",
            "\n",
            "Epoch 00046: saving model to /content/drive/My Drive/Colab Notebooks/cp_traLearn.ckpt\n",
            "Epoch 47/50\n",
            "106/106 [==============================] - 82s 771ms/step - loss: 5.2630 - acc: 0.6445 - val_loss: 5.1815 - val_acc: 0.6479\n",
            "\n",
            "Epoch 00047: saving model to /content/drive/My Drive/Colab Notebooks/cp_traLearn.ckpt\n",
            "Epoch 48/50\n",
            "106/106 [==============================] - 79s 741ms/step - loss: 5.2913 - acc: 0.6417 - val_loss: 5.1856 - val_acc: 0.6446\n",
            "\n",
            "Epoch 00048: saving model to /content/drive/My Drive/Colab Notebooks/cp_traLearn.ckpt\n",
            "Epoch 49/50\n",
            "106/106 [==============================] - 82s 777ms/step - loss: 5.2623 - acc: 0.6446 - val_loss: 5.1962 - val_acc: 0.6448\n",
            "\n",
            "Epoch 00049: saving model to /content/drive/My Drive/Colab Notebooks/cp_traLearn.ckpt\n",
            "Epoch 50/50\n",
            "106/106 [==============================] - 85s 799ms/step - loss: 5.3983 - acc: 0.6371 - val_loss: 5.1706 - val_acc: 0.6468\n",
            "\n",
            "Epoch 00050: saving model to /content/drive/My Drive/Colab Notebooks/cp_traLearn.ckpt\n"
          ],
          "name": "stdout"
        }
      ]
    },
    {
      "cell_type": "code",
      "metadata": {
        "id": "gg3d3fChzsAS",
        "colab_type": "code",
        "colab": {}
      },
      "source": [
        "new_model_json = new_model.to_json()\n",
        "with open(\"new_model_50and50ep.json\", \"w\") as json_file:\n",
        "  json_file.write(new_model_json)\n",
        "new_model.save_weights('new_model_50and50ep.h5')"
      ],
      "execution_count": 0,
      "outputs": []
    },
    {
      "cell_type": "code",
      "metadata": {
        "id": "VOrJaxpazw-q",
        "colab_type": "code",
        "colab": {}
      },
      "source": [
        "from sklearn.metrics import confusion_matrix, classification_report, precision_recall_curve, roc_curve"
      ],
      "execution_count": 0,
      "outputs": []
    },
    {
      "cell_type": "code",
      "metadata": {
        "id": "-L83ERySWJJh",
        "colab_type": "code",
        "colab": {}
      },
      "source": [
        "import matplotlib.pyplot as plt\n"
      ],
      "execution_count": 0,
      "outputs": []
    },
    {
      "cell_type": "markdown",
      "metadata": {
        "id": "MU3f9OnvaemN",
        "colab_type": "text"
      },
      "source": [
        "Accuracy metric:"
      ]
    },
    {
      "cell_type": "code",
      "metadata": {
        "id": "_KBVFw7SZ7l5",
        "colab_type": "code",
        "outputId": "c3e00ed4-2775-4a91-a5e4-63559480ccc0",
        "colab": {
          "base_uri": "https://localhost:8080/",
          "height": 35
        }
      },
      "source": [
        "Y_pred"
      ],
      "execution_count": 18,
      "outputs": [
        {
          "output_type": "execute_result",
          "data": {
            "text/plain": [
              "[5.2212788100095135, 0.6422680414829057]"
            ]
          },
          "metadata": {
            "tags": []
          },
          "execution_count": 18
        }
      ]
    },
    {
      "cell_type": "code",
      "metadata": {
        "id": "2KsHewa3a29Z",
        "colab_type": "code",
        "outputId": "ef0d934a-7b5e-4889-ff04-6448e3ac7e08",
        "colab": {
          "base_uri": "https://localhost:8080/",
          "height": 71
        }
      },
      "source": [
        "Y_pred = new_model.predict_generator(validation_generator, nb_validation_samples // batch_size+1)\n",
        "y_pred = [1 if x >= 0.5 else 0 for x in Y_pred ]\n",
        "validation_generator.classes\n",
        "print('Confusion Matrix')\n",
        "print(confusion_matrix(validation_generator.classes, y_pred))\n"
      ],
      "execution_count": 33,
      "outputs": [
        {
          "output_type": "stream",
          "text": [
            "Confusion Matrix\n",
            "[[346 139]\n",
            " [346 139]]\n"
          ],
          "name": "stdout"
        }
      ]
    },
    {
      "cell_type": "code",
      "metadata": {
        "id": "0v_0Z1YToZpc",
        "colab_type": "code",
        "colab": {}
      },
      "source": [
        "precisions, recalls, thresholds = precision_recall_curve(validation_generator.classes, Y_pred)"
      ],
      "execution_count": 0,
      "outputs": []
    },
    {
      "cell_type": "code",
      "metadata": {
        "id": "ctU4Z_KZt_3a",
        "colab_type": "code",
        "colab": {
          "base_uri": "https://localhost:8080/",
          "height": 407
        },
        "outputId": "e6b77c32-97a6-49c9-bd03-103eb82c6c4d"
      },
      "source": [
        "\n",
        "def plot_precision_vs_recall(precisions, recalls):\n",
        "    plt.plot(recalls, precisions, \"b-\", linewidth=2)\n",
        "    plt.xlabel(\"Recall\", fontsize=16)\n",
        "    plt.ylabel(\"Precision\", fontsize=16)\n",
        "    plt.axis([0, 1, 0, 1])\n",
        "    plt.grid(True)\n",
        "\n",
        "plt.figure(figsize=(8, 6))\n",
        "plot_precision_vs_recall(precisions, recalls)\n",
        "plt.plot([0.4368, 0.4368], [0., 0.9], \"r:\")\n",
        "plt.plot([0.0, 0.4368], [0.9, 0.9], \"r:\")\n",
        "plt.plot([0.4368], [0.9], \"ro\")\n",
        "plt.show()"
      ],
      "execution_count": 77,
      "outputs": [
        {
          "output_type": "display_data",
          "data": {
            "image/png": "[encoded data removed]",
            "text/plain": [
              "<Figure size 576x432 with 1 Axes>"
            ]
          },
          "metadata": {
            "tags": []
          }
        }
      ]
    },
    {
      "cell_type": "code",
      "metadata": {
        "id": "4nrMnVx9tTnP",
        "colab_type": "code",
        "colab": {
          "base_uri": "https://localhost:8080/",
          "height": 298
        },
        "outputId": "346ab95a-5ba5-4064-e581-ab78eb920fe5"
      },
      "source": [
        "def plot_precision_recall_vs_threshold(precisions, recalls, thresholds):\n",
        "    plt.plot(thresholds, precisions[:-1], \"b--\", label=\"Precision\", linewidth=2)\n",
        "    plt.plot(thresholds, recalls[:-1], \"g-\", label=\"Recall\", linewidth=2)\n",
        "    plt.legend(loc=\"center right\", fontsize=16) # Not shown in the book\n",
        "    plt.xlabel(\"Threshold\", fontsize=16)        # Not shown\n",
        "    plt.grid(True)                              # Not shown\n",
        "    plt.axis([-2, 2, 0, 1])             # Not shown\n",
        "\n",
        "plt.figure(figsize=(8, 4))                                                                  # Not shown\n",
        "plot_precision_recall_vs_threshold(precisions, recalls, thresholds)\n",
        "plt.show()"
      ],
      "execution_count": 76,
      "outputs": [
        {
          "output_type": "display_data",
          "data": {
            "image/png": "[encoded data removed]",
            "text/plain": [
              "<Figure size 576x288 with 1 Axes>"
            ]
          },
          "metadata": {
            "tags": []
          }
        }
      ]
    },
    {
      "cell_type": "code",
      "metadata": {
        "id": "Xr1sRgmNo2J3",
        "colab_type": "code",
        "colab": {}
      },
      "source": [
        "fpr, tpr, thresholds = roc_curve(validation_generator.classes, Y_pred)\n"
      ],
      "execution_count": 0,
      "outputs": []
    },
    {
      "cell_type": "code",
      "metadata": {
        "id": "VESY-chwp-Iw",
        "colab_type": "code",
        "colab": {
          "base_uri": "https://localhost:8080/",
          "height": 407
        },
        "outputId": "90a6c692-e7a3-4360-fac1-f7747f735e1a"
      },
      "source": [
        "def plot_roc_curve(fpr, tpr, label=None):\n",
        "    plt.plot(fpr, tpr, linewidth=2, label=label)\n",
        "    plt.plot([0, 1], [0, 1], 'k--') # dashed diagonal\n",
        "    plt.axis([0, 1, 0, 1])                                    # Not shown in the book\n",
        "    plt.xlabel('False Positive Rate (Fall-Out)', fontsize=16) # Not shown\n",
        "    plt.ylabel('True Positive Rate (Recall)', fontsize=16)    # Not shown\n",
        "    plt.grid(True)                                            # Not shown\n",
        "\n",
        "plt.figure(figsize=(8, 6))                         # Not shown\n",
        "plot_roc_curve(fpr, tpr)\n",
        "plt.plot([4.837e-3, 4.837e-3], [0., 0.4368], \"r:\") # Not shown\n",
        "plt.plot([0.0, 4.837e-3], [0.4368, 0.4368], \"r:\")  # Not shown\n",
        "plt.plot([4.837e-3], [0.4368], \"ro\")               # Not shown\n",
        "# save_fig(\"roc_curve_plot\")                         # Not shown\n",
        "plt.show()"
      ],
      "execution_count": 78,
      "outputs": [
        {
          "output_type": "display_data",
          "data": {
            "image/png": "[encoded data removed]",
            "text/plain": [
              "<Figure size 576x432 with 1 Axes>"
            ]
          },
          "metadata": {
            "tags": []
          }
        }
      ]
    },
    {
      "cell_type": "code",
      "metadata": {
        "id": "85pOg64lqd8k",
        "colab_type": "code",
        "colab": {
          "base_uri": "https://localhost:8080/",
          "height": 35
        },
        "outputId": "5423773b-a693-4859-d950-5240a036cdca"
      },
      "source": [
        "from sklearn.metrics import roc_auc_score\n",
        "roc_auc_score(validation_generator.classes,Y_pred)"
      ],
      "execution_count": 51,
      "outputs": [
        {
          "output_type": "execute_result",
          "data": {
            "text/plain": [
              "0.5092060792857901"
            ]
          },
          "metadata": {
            "tags": []
          },
          "execution_count": 51
        }
      ]
    },
    {
      "cell_type": "code",
      "metadata": {
        "id": "qe9s0eDfbLv-",
        "colab_type": "code",
        "outputId": "561cc998-9a11-4a6c-b874-fed85bd315cd",
        "colab": {
          "base_uri": "https://localhost:8080/",
          "height": 178
        }
      },
      "source": [
        "print(classification_report(validation_generator.classes, y_pred))"
      ],
      "execution_count": 34,
      "outputs": [
        {
          "output_type": "stream",
          "text": [
            "              precision    recall  f1-score   support\n",
            "\n",
            "           0       0.50      0.71      0.59       485\n",
            "           1       0.50      0.29      0.36       485\n",
            "\n",
            "    accuracy                           0.50       970\n",
            "   macro avg       0.50      0.50      0.48       970\n",
            "weighted avg       0.50      0.50      0.48       970\n",
            "\n"
          ],
          "name": "stdout"
        }
      ]
    },
    {
      "cell_type": "code",
      "metadata": {
        "id": "KdtwOyhscjqN",
        "colab_type": "code",
        "colab": {}
      },
      "source": [
        "cm = confusion_matrix(validation_generator.classes, y_pred)"
      ],
      "execution_count": 0,
      "outputs": []
    },
    {
      "cell_type": "code",
      "metadata": {
        "id": "nf6ZmeORT8qD",
        "colab_type": "code",
        "outputId": "8f1f51dc-3be8-40d6-e68d-01f08f894822",
        "colab": {
          "base_uri": "https://localhost:8080/",
          "height": 290
        }
      },
      "source": [
        "plt.imshow(cm, cmap=plt.cm.Blues)\n",
        "plt.xlabel(\"Predicted labels\")\n",
        "plt.ylabel(\"True labels\")\n",
        "plt.xticks([], [])\n",
        "plt.yticks([], [])\n",
        "plt.title('Confusion matrix ')\n",
        "plt.colorbar()\n",
        "plt.show()"
      ],
      "execution_count": 37,
      "outputs": [
        {
          "output_type": "display_data",
          "data": {
            "image/png": "[encoded data removed]",
            "text/plain": [
              "<Figure size 432x288 with 2 Axes>"
            ]
          },
          "metadata": {
            "tags": []
          }
        }
      ]
    },
    {
      "cell_type": "code",
      "metadata": {
        "id": "KDLGUTmrbDGg",
        "colab_type": "code",
        "colab": {}
      },
      "source": [
        "labels = train_generator.class_indices"
      ],
      "execution_count": 0,
      "outputs": []
    },
    {
      "cell_type": "code",
      "metadata": {
        "id": "nAdbhvMmZIFF",
        "colab_type": "code",
        "colab": {}
      },
      "source": [
        "import seaborn as sn\n",
        "import pandas as pd"
      ],
      "execution_count": 0,
      "outputs": []
    },
    {
      "cell_type": "code",
      "metadata": {
        "id": "zX0T498KZJCy",
        "colab_type": "code",
        "outputId": "52570b2d-fa92-42a1-e93e-cea8c90757c9",
        "colab": {
          "base_uri": "https://localhost:8080/",
          "height": 273
        }
      },
      "source": [
        "df_cm = pd.DataFrame(cm, range(2), range(2))\n",
        "# plt.figure(figsize=(10,7))\n",
        "sn.set(font_scale=1.4) # for label size\n",
        "sn.heatmap(df_cm, annot=True, annot_kws={\"size\": 16},fmt=\"d\") # font size\n",
        "\n",
        "plt.show()"
      ],
      "execution_count": 40,
      "outputs": [
        {
          "output_type": "display_data",
          "data": {
            "image/png": "[encoded data removed]",
            "text/plain": [
              "<Figure size 432x288 with 2 Axes>"
            ]
          },
          "metadata": {
            "tags": []
          }
        }
      ]
    },
    {
      "cell_type": "code",
      "metadata": {
        "id": "JywrrUuNb4ny",
        "colab_type": "code",
        "colab": {}
      },
      "source": [
        ""
      ],
      "execution_count": 0,
      "outputs": []
    }
  ]
}
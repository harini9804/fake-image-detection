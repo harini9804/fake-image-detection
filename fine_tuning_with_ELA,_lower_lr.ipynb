{
  "nbformat": 4,
  "nbformat_minor": 0,
  "metadata": {
    "colab": {
      "name": "fine tuning with ELA, lower lr",
      "provenance": [],
      "collapsed_sections": [],
      "mount_file_id": "1YJgdqxEZBwEw-WdNr4I0gn6OxBySNFy0",
      "authorship_tag": "ABX9TyM+rxRBhOxRAYtyDQzh7sU+",
      "include_colab_link": true
    },
    "kernelspec": {
      "name": "python3",
      "display_name": "Python 3"
    },
    "accelerator": "GPU"
  },
  "cells": [
    {
      "cell_type": "markdown",
      "metadata": {
        "id": "view-in-github",
        "colab_type": "text"
      },
      "source": [
        "<a href=\"https://colab.research.google.com/github/harini9804/fake-image-detection/blob/master/fine_tuning_with_ELA%2C_lower_lr.ipynb\" target=\"_parent\"><img src=\"https://colab.research.google.com/assets/colab-badge.svg\" alt=\"Open In Colab\"/></a>"
      ]
    },
    {
      "cell_type": "code",
      "metadata": {
        "id": "8YnqYs2RtRKG",
        "colab_type": "code",
        "colab": {}
      },
      "source": [
        "%cp '/content/drive/My Drive/Colab Notebooks/weibo_data_split_ela.zip' /content"
      ],
      "execution_count": 0,
      "outputs": []
    },
    {
      "cell_type": "code",
      "metadata": {
        "id": "Rj7uSgY7wT3N",
        "colab_type": "code",
        "colab": {}
      },
      "source": [
        "!unzip weibo_data_split_ela.zip -d ./"
      ],
      "execution_count": 0,
      "outputs": []
    },
    {
      "cell_type": "code",
      "metadata": {
        "id": "9JM9cajgSx5-",
        "colab_type": "code",
        "colab": {}
      },
      "source": [
        "%mv /content/content/weibo_data_split /content/weibo_data_split_ela"
      ],
      "execution_count": 0,
      "outputs": []
    },
    {
      "cell_type": "code",
      "metadata": {
        "id": "_rGZ99jMMD3T",
        "colab_type": "code",
        "outputId": "f5860df9-cca7-4bac-bdf1-faad704aaf49",
        "colab": {
          "base_uri": "https://localhost:8080/",
          "height": 35
        }
      },
      "source": [
        "from keras import applications\n",
        "from keras.preprocessing.image import ImageDataGenerator\n",
        "from keras import optimizers\n",
        "from keras.models import Sequential\n",
        "from keras.layers import Dropout, Flatten, Dense\n",
        "import os"
      ],
      "execution_count": 0,
      "outputs": [
        {
          "output_type": "stream",
          "text": [
            "Using TensorFlow backend.\n"
          ],
          "name": "stderr"
        }
      ]
    },
    {
      "cell_type": "code",
      "metadata": {
        "id": "GTc8OvyESI7V",
        "colab_type": "code",
        "colab": {}
      },
      "source": [
        "import numpy as np"
      ],
      "execution_count": 0,
      "outputs": []
    },
    {
      "cell_type": "code",
      "metadata": {
        "id": "vn0OLDkkMKhL",
        "colab_type": "code",
        "colab": {}
      },
      "source": [
        "# path to the model weights files.\n",
        "weights_path = '../keras/examples/vgg16_weights.h5'\n",
        "top_model_weights_path = '/content/drive/My Drive/Colab Notebooks/bottleneck_fc_model_ela.h5'\n",
        "# dimensions of our images.\n",
        "img_width, img_height = 150, 150"
      ],
      "execution_count": 0,
      "outputs": []
    },
    {
      "cell_type": "code",
      "metadata": {
        "id": "BlksxLhMMM3x",
        "colab_type": "code",
        "colab": {}
      },
      "source": [
        "base_dir = '/content/weibo_data_split_ela'\n",
        "train_data_dir = base_dir +'/train_ela'\n",
        "validation_data_dir = base_dir +'/validation_ela'\n",
        "\n",
        "nb_train_samples = 2*len(os.listdir(train_data_dir+'/fake_ela/'))\n",
        "nb_validation_samples = 2*len(os.listdir(validation_data_dir+'/fake_ela/'))\n",
        "epochs = 50\n",
        "batch_size = 64"
      ],
      "execution_count": 0,
      "outputs": []
    },
    {
      "cell_type": "code",
      "metadata": {
        "id": "rL5mqxvLMOkl",
        "colab_type": "code",
        "outputId": "1cb4b6b6-f496-4cc0-d772-c36b38362192",
        "colab": {
          "base_uri": "https://localhost:8080/",
          "height": 91
        }
      },
      "source": [
        "# build the VGG16 network\n",
        "model = applications.VGG16(weights='imagenet', include_top=False, input_shape=(img_width, img_height, 3))\n",
        "print('Model loaded.')"
      ],
      "execution_count": 0,
      "outputs": [
        {
          "output_type": "stream",
          "text": [
            "Downloading data from https://github.com/fchollet/deep-learning-models/releases/download/v0.1/vgg16_weights_tf_dim_ordering_tf_kernels_notop.h5\n",
            "58892288/58889256 [==============================] - 5s 0us/step\n",
            "Model loaded.\n"
          ],
          "name": "stdout"
        }
      ]
    },
    {
      "cell_type": "code",
      "metadata": {
        "id": "s8N0QmSSM3oH",
        "colab_type": "code",
        "colab": {}
      },
      "source": [
        "top_model = Sequential()\n",
        "top_model.add(Flatten(input_shape=model.output_shape[1:]))\n",
        "top_model.add(Dense(256, activation='relu'))\n",
        "top_model.add(Dropout(0.5))\n",
        "top_model.add(Dense(1, activation='sigmoid'))"
      ],
      "execution_count": 0,
      "outputs": []
    },
    {
      "cell_type": "code",
      "metadata": {
        "id": "0TrOFp8Hf1Zk",
        "colab_type": "code",
        "colab": {}
      },
      "source": [
        "# note that it is necessary to start with a fully-trained\n",
        "# classifier, including the top classifier,\n",
        "# in order to successfully do fine-tuning\n",
        "top_model.load_weights(top_model_weights_path)"
      ],
      "execution_count": 0,
      "outputs": []
    },
    {
      "cell_type": "code",
      "metadata": {
        "id": "An8wAO4rOK-P",
        "colab_type": "code",
        "colab": {}
      },
      "source": [
        "new_model = Sequential()\n",
        "for l in model.layers:\n",
        "    new_model.add(l)\n",
        "\n",
        "\n",
        "# CONCATENATE THE TWO MODELS\n",
        "new_model.add(top_model)\n"
      ],
      "execution_count": 0,
      "outputs": []
    },
    {
      "cell_type": "code",
      "metadata": {
        "id": "5ju_SBuROvED",
        "colab_type": "code",
        "colab": {}
      },
      "source": [
        "# set the first 14 layers (up to the last conv block)\n",
        "# to non-trainable (weights will not be updated)\n",
        "for layer in new_model.layers[:14]:\n",
        "    layer.trainable = False"
      ],
      "execution_count": 0,
      "outputs": []
    },
    {
      "cell_type": "code",
      "metadata": {
        "id": "BN4M3BHM74Eq",
        "colab_type": "code",
        "outputId": "42449593-98ee-435a-e97e-c4bd62e45314",
        "colab": {
          "base_uri": "https://localhost:8080/",
          "height": 841
        }
      },
      "source": [
        "new_model.summary()"
      ],
      "execution_count": 0,
      "outputs": [
        {
          "output_type": "stream",
          "text": [
            "Model: \"sequential_2\"\n",
            "_________________________________________________________________\n",
            "Layer (type)                 Output Shape              Param #   \n",
            "=================================================================\n",
            "block1_conv1 (Conv2D)        (None, 150, 150, 64)      1792      \n",
            "_________________________________________________________________\n",
            "block1_conv2 (Conv2D)        (None, 150, 150, 64)      36928     \n",
            "_________________________________________________________________\n",
            "block1_pool (MaxPooling2D)   (None, 75, 75, 64)        0         \n",
            "_________________________________________________________________\n",
            "block2_conv1 (Conv2D)        (None, 75, 75, 128)       73856     \n",
            "_________________________________________________________________\n",
            "block2_conv2 (Conv2D)        (None, 75, 75, 128)       147584    \n",
            "_________________________________________________________________\n",
            "block2_pool (MaxPooling2D)   (None, 37, 37, 128)       0         \n",
            "_________________________________________________________________\n",
            "block3_conv1 (Conv2D)        (None, 37, 37, 256)       295168    \n",
            "_________________________________________________________________\n",
            "block3_conv2 (Conv2D)        (None, 37, 37, 256)       590080    \n",
            "_________________________________________________________________\n",
            "block3_conv3 (Conv2D)        (None, 37, 37, 256)       590080    \n",
            "_________________________________________________________________\n",
            "block3_pool (MaxPooling2D)   (None, 18, 18, 256)       0         \n",
            "_________________________________________________________________\n",
            "block4_conv1 (Conv2D)        (None, 18, 18, 512)       1180160   \n",
            "_________________________________________________________________\n",
            "block4_conv2 (Conv2D)        (None, 18, 18, 512)       2359808   \n",
            "_________________________________________________________________\n",
            "block4_conv3 (Conv2D)        (None, 18, 18, 512)       2359808   \n",
            "_________________________________________________________________\n",
            "block4_pool (MaxPooling2D)   (None, 9, 9, 512)         0         \n",
            "_________________________________________________________________\n",
            "block5_conv1 (Conv2D)        (None, 9, 9, 512)         2359808   \n",
            "_________________________________________________________________\n",
            "block5_conv2 (Conv2D)        (None, 9, 9, 512)         2359808   \n",
            "_________________________________________________________________\n",
            "block5_conv3 (Conv2D)        (None, 9, 9, 512)         2359808   \n",
            "_________________________________________________________________\n",
            "block5_pool (MaxPooling2D)   (None, 4, 4, 512)         0         \n",
            "_________________________________________________________________\n",
            "sequential_1 (Sequential)    (None, 1)                 2097665   \n",
            "=================================================================\n",
            "Total params: 16,812,353\n",
            "Trainable params: 9,177,089\n",
            "Non-trainable params: 7,635,264\n",
            "_________________________________________________________________\n"
          ],
          "name": "stdout"
        }
      ]
    },
    {
      "cell_type": "code",
      "metadata": {
        "id": "co6l8kLgOxJ7",
        "colab_type": "code",
        "colab": {}
      },
      "source": [
        "# compile the model with a SGD/momentum optimizer\n",
        "# and a very slow learning rate.\n",
        "new_model.compile(loss='binary_crossentropy',\n",
        "              optimizer=optimizers.SGD(lr=0.001, momentum = 0.9),\n",
        "              metrics=['accuracy'])"
      ],
      "execution_count": 0,
      "outputs": []
    },
    {
      "cell_type": "code",
      "metadata": {
        "id": "-F7jr0DnO0Vz",
        "colab_type": "code",
        "colab": {}
      },
      "source": [
        "# prepare data augmentation configuration\n",
        "train_datagen = ImageDataGenerator(\n",
        "    rescale=1. / 255,\n",
        "    shear_range=0.2,\n",
        "    zoom_range=0.2,\n",
        "    horizontal_flip=True)\n",
        "\n",
        "test_datagen = ImageDataGenerator(rescale=1. / 255)"
      ],
      "execution_count": 0,
      "outputs": []
    },
    {
      "cell_type": "code",
      "metadata": {
        "id": "rIKMGV0dO3Ln",
        "colab_type": "code",
        "outputId": "bf9e1aa2-9e25-47ca-8e1b-f108b92ab3ec",
        "colab": {
          "base_uri": "https://localhost:8080/",
          "height": 53
        }
      },
      "source": [
        "train_generator = train_datagen.flow_from_directory(\n",
        "    train_data_dir,\n",
        "    target_size=(img_height, img_width),\n",
        "    batch_size=batch_size,\n",
        "    class_mode='binary')\n",
        "\n",
        "validation_generator = test_datagen.flow_from_directory(\n",
        "    validation_data_dir,\n",
        "    target_size=(img_height, img_width),\n",
        "    batch_size=batch_size,\n",
        "    class_mode='binary')"
      ],
      "execution_count": 0,
      "outputs": [
        {
          "output_type": "stream",
          "text": [
            "Found 6794 images belonging to 2 classes.\n",
            "Found 970 images belonging to 2 classes.\n"
          ],
          "name": "stdout"
        }
      ]
    },
    {
      "cell_type": "code",
      "metadata": {
        "id": "hiJ2ZmZ8Y77l",
        "colab_type": "code",
        "outputId": "30437342-be99-47ac-9b76-f6e773cbe050",
        "colab": {
          "base_uri": "https://localhost:8080/",
          "height": 35
        }
      },
      "source": [
        "train_generator.class_indices"
      ],
      "execution_count": 0,
      "outputs": [
        {
          "output_type": "execute_result",
          "data": {
            "text/plain": [
              "{'fake_ela': 0, 'real_ela': 1}"
            ]
          },
          "metadata": {
            "tags": []
          },
          "execution_count": 17
        }
      ]
    },
    {
      "cell_type": "code",
      "metadata": {
        "id": "qT6m0Z9ZGMHz",
        "colab_type": "code",
        "colab": {}
      },
      "source": [
        "new_model.load_weights(\"/content/drive/My Drive/Colab Notebooks/ela_001.ckpt\")"
      ],
      "execution_count": 0,
      "outputs": []
    },
    {
      "cell_type": "code",
      "metadata": {
        "id": "LNiwoRET_bci",
        "colab_type": "code",
        "colab": {}
      },
      "source": [
        "checkpoint_path = \"/content/drive/My Drive/Colab Notebooks/weights_ela_001.{epoch:02d}-{val_loss:.2f}.hdf5\"\n",
        "checkpoint_dir = os.path.dirname(checkpoint_path)\n"
      ],
      "execution_count": 0,
      "outputs": []
    },
    {
      "cell_type": "code",
      "metadata": {
        "id": "FceGk8rlGYta",
        "colab_type": "code",
        "colab": {}
      },
      "source": [
        "from keras.callbacks import ModelCheckpoint, EarlyStopping"
      ],
      "execution_count": 0,
      "outputs": []
    },
    {
      "cell_type": "code",
      "metadata": {
        "id": "7pYMKttbm09F",
        "colab_type": "code",
        "colab": {}
      },
      "source": [
        "# new_model.summary()"
      ],
      "execution_count": 0,
      "outputs": []
    },
    {
      "cell_type": "code",
      "metadata": {
        "id": "Lh5wmRPD0Jog",
        "colab_type": "code",
        "outputId": "dc639a9b-46b6-44a3-a490-f67598e0731b",
        "colab": {
          "base_uri": "https://localhost:8080/",
          "height": 1000
        }
      },
      "source": [
        "# FIRST VERSION - 15 LAYERS FREEZE, SGD 0.001\n",
        "# fine-tune the model\n",
        "history = new_model.fit_generator(\n",
        "    train_generator,\n",
        "    steps_per_epoch=nb_train_samples // batch_size,\n",
        "        epochs=epochs,\n",
        "        validation_data=validation_generator,\n",
        "        validation_steps=nb_validation_samples // batch_size,\n",
        "        callbacks = callbacks_list)"
      ],
      "execution_count": 0,
      "outputs": [
        {
          "output_type": "stream",
          "text": [
            "Epoch 1/50\n",
            "106/106 [==============================] - 103s 969ms/step - loss: 0.6907 - accuracy: 0.5080 - val_loss: 0.6890 - val_accuracy: 0.4979\n",
            "\n",
            "Epoch 00001: saving model to /content/drive/My Drive/Colab Notebooks/ela_001.ckpt\n",
            "Epoch 2/50\n",
            "106/106 [==============================] - 99s 929ms/step - loss: 0.6927 - accuracy: 0.5007 - val_loss: 0.6922 - val_accuracy: 0.5011\n",
            "\n",
            "Epoch 00002: saving model to /content/drive/My Drive/Colab Notebooks/ela_001.ckpt\n",
            "Epoch 3/50\n",
            "106/106 [==============================] - 98s 929ms/step - loss: 0.6931 - accuracy: 0.5004 - val_loss: 0.6920 - val_accuracy: 0.4978\n",
            "\n",
            "Epoch 00003: saving model to /content/drive/My Drive/Colab Notebooks/ela_001.ckpt\n",
            "Epoch 4/50\n",
            "106/106 [==============================] - 98s 926ms/step - loss: 0.6929 - accuracy: 0.5003 - val_loss: 0.6916 - val_accuracy: 0.5011\n",
            "\n",
            "Epoch 00004: saving model to /content/drive/My Drive/Colab Notebooks/ela_001.ckpt\n",
            "Epoch 5/50\n",
            "106/106 [==============================] - 98s 924ms/step - loss: 0.6929 - accuracy: 0.4991 - val_loss: 0.6867 - val_accuracy: 0.5088\n",
            "\n",
            "Epoch 00005: saving model to /content/drive/My Drive/Colab Notebooks/ela_001.ckpt\n",
            "Epoch 6/50\n",
            "106/106 [==============================] - 97s 920ms/step - loss: 0.6922 - accuracy: 0.5013 - val_loss: 0.6888 - val_accuracy: 0.4978\n",
            "\n",
            "Epoch 00006: saving model to /content/drive/My Drive/Colab Notebooks/ela_001.ckpt\n",
            "Epoch 7/50\n",
            "106/106 [==============================] - 96s 907ms/step - loss: 0.6917 - accuracy: 0.4981 - val_loss: 0.6933 - val_accuracy: 0.4912\n",
            "\n",
            "Epoch 00007: saving model to /content/drive/My Drive/Colab Notebooks/ela_001.ckpt\n",
            "Epoch 8/50\n",
            "106/106 [==============================] - 96s 906ms/step - loss: 0.6918 - accuracy: 0.4929 - val_loss: 0.6997 - val_accuracy: 0.5033\n",
            "\n",
            "Epoch 00008: saving model to /content/drive/My Drive/Colab Notebooks/ela_001.ckpt\n",
            "Epoch 9/50\n",
            "106/106 [==============================] - 95s 892ms/step - loss: 0.6935 - accuracy: 0.4914 - val_loss: 0.6933 - val_accuracy: 0.4901\n",
            "\n",
            "Epoch 00009: saving model to /content/drive/My Drive/Colab Notebooks/ela_001.ckpt\n",
            "Epoch 10/50\n",
            "106/106 [==============================] - 95s 892ms/step - loss: 0.6928 - accuracy: 0.4969 - val_loss: 0.7973 - val_accuracy: 0.5055\n",
            "\n",
            "Epoch 00010: saving model to /content/drive/My Drive/Colab Notebooks/ela_001.ckpt\n",
            "Epoch 11/50\n",
            "106/106 [==============================] - 96s 903ms/step - loss: 0.6927 - accuracy: 0.4970 - val_loss: 0.6927 - val_accuracy: 0.5110\n",
            "\n",
            "Epoch 00011: saving model to /content/drive/My Drive/Colab Notebooks/ela_001.ckpt\n",
            "Epoch 12/50\n",
            "106/106 [==============================] - 95s 898ms/step - loss: 0.6924 - accuracy: 0.4948 - val_loss: 0.6931 - val_accuracy: 0.5066\n",
            "\n",
            "Epoch 00012: saving model to /content/drive/My Drive/Colab Notebooks/ela_001.ckpt\n",
            "Epoch 13/50\n",
            "106/106 [==============================] - 94s 888ms/step - loss: 0.6921 - accuracy: 0.4993 - val_loss: 0.6930 - val_accuracy: 0.5011\n",
            "\n",
            "Epoch 00013: saving model to /content/drive/My Drive/Colab Notebooks/ela_001.ckpt\n",
            "Epoch 14/50\n",
            "106/106 [==============================] - 95s 896ms/step - loss: 0.6931 - accuracy: 0.4970 - val_loss: 0.6931 - val_accuracy: 0.5066\n",
            "\n",
            "Epoch 00014: saving model to /content/drive/My Drive/Colab Notebooks/ela_001.ckpt\n",
            "Epoch 15/50\n",
            "106/106 [==============================] - 94s 886ms/step - loss: 0.6929 - accuracy: 0.4929 - val_loss: 0.6929 - val_accuracy: 0.5000\n",
            "\n",
            "Epoch 00015: saving model to /content/drive/My Drive/Colab Notebooks/ela_001.ckpt\n",
            "Epoch 16/50\n",
            "106/106 [==============================] - 95s 896ms/step - loss: 0.6926 - accuracy: 0.4981 - val_loss: 0.6932 - val_accuracy: 0.5077\n",
            "\n",
            "Epoch 00016: saving model to /content/drive/My Drive/Colab Notebooks/ela_001.ckpt\n",
            "Epoch 17/50\n",
            "106/106 [==============================] - 94s 886ms/step - loss: 0.6921 - accuracy: 0.5051 - val_loss: 0.9181 - val_accuracy: 0.5010\n",
            "\n",
            "Epoch 00017: saving model to /content/drive/My Drive/Colab Notebooks/ela_001.ckpt\n",
            "Epoch 18/50\n",
            "106/106 [==============================] - 98s 924ms/step - loss: 0.6921 - accuracy: 0.5018 - val_loss: 0.6829 - val_accuracy: 0.5077\n",
            "\n",
            "Epoch 00018: saving model to /content/drive/My Drive/Colab Notebooks/ela_001.ckpt\n",
            "Epoch 19/50\n",
            "106/106 [==============================] - 95s 892ms/step - loss: 0.6916 - accuracy: 0.4949 - val_loss: 0.6932 - val_accuracy: 0.5110\n",
            "\n",
            "Epoch 00019: saving model to /content/drive/My Drive/Colab Notebooks/ela_001.ckpt\n",
            "Epoch 20/50\n",
            "106/106 [==============================] - 94s 886ms/step - loss: 0.6918 - accuracy: 0.5009 - val_loss: 0.6924 - val_accuracy: 0.5088\n",
            "\n",
            "Epoch 00020: saving model to /content/drive/My Drive/Colab Notebooks/ela_001.ckpt\n",
            "Epoch 21/50\n",
            "106/106 [==============================] - 93s 879ms/step - loss: 0.6912 - accuracy: 0.5101 - val_loss: 0.6954 - val_accuracy: 0.5188\n",
            "\n",
            "Epoch 00021: saving model to /content/drive/My Drive/Colab Notebooks/ela_001.ckpt\n",
            "Epoch 22/50\n",
            "106/106 [==============================] - 94s 883ms/step - loss: 0.6900 - accuracy: 0.5056 - val_loss: 0.6742 - val_accuracy: 0.5033\n",
            "\n",
            "Epoch 00022: saving model to /content/drive/My Drive/Colab Notebooks/ela_001.ckpt\n",
            "Epoch 23/50\n",
            "106/106 [==============================] - 95s 894ms/step - loss: 0.6894 - accuracy: 0.5055 - val_loss: 0.6779 - val_accuracy: 0.4901\n",
            "\n",
            "Epoch 00023: saving model to /content/drive/My Drive/Colab Notebooks/ela_001.ckpt\n",
            "Epoch 24/50\n",
            "106/106 [==============================] - 93s 878ms/step - loss: 0.6902 - accuracy: 0.5178 - val_loss: 0.6724 - val_accuracy: 0.6181\n",
            "\n",
            "Epoch 00024: saving model to /content/drive/My Drive/Colab Notebooks/ela_001.ckpt\n",
            "Epoch 25/50\n",
            "106/106 [==============================] - 95s 892ms/step - loss: 0.6906 - accuracy: 0.5199 - val_loss: 0.6828 - val_accuracy: 0.4923\n",
            "\n",
            "Epoch 00025: saving model to /content/drive/My Drive/Colab Notebooks/ela_001.ckpt\n",
            "Epoch 26/50\n",
            "106/106 [==============================] - 95s 900ms/step - loss: 0.6887 - accuracy: 0.5160 - val_loss: 0.7590 - val_accuracy: 0.5221\n",
            "\n",
            "Epoch 00026: saving model to /content/drive/My Drive/Colab Notebooks/ela_001.ckpt\n",
            "Epoch 27/50\n",
            "106/106 [==============================] - 94s 889ms/step - loss: 0.6894 - accuracy: 0.5070 - val_loss: 0.6925 - val_accuracy: 0.5132\n",
            "\n",
            "Epoch 00027: saving model to /content/drive/My Drive/Colab Notebooks/ela_001.ckpt\n",
            "Epoch 28/50\n",
            "106/106 [==============================] - 95s 895ms/step - loss: 0.6846 - accuracy: 0.5404 - val_loss: 0.6817 - val_accuracy: 0.5143\n",
            "\n",
            "Epoch 00028: saving model to /content/drive/My Drive/Colab Notebooks/ela_001.ckpt\n",
            "Epoch 29/50\n",
            "106/106 [==============================] - 94s 884ms/step - loss: 0.6868 - accuracy: 0.5311 - val_loss: 0.8067 - val_accuracy: 0.5508\n",
            "\n",
            "Epoch 00029: saving model to /content/drive/My Drive/Colab Notebooks/ela_001.ckpt\n",
            "Epoch 30/50\n",
            "106/106 [==============================] - 96s 902ms/step - loss: 0.6849 - accuracy: 0.5494 - val_loss: 0.6941 - val_accuracy: 0.5199\n",
            "\n",
            "Epoch 00030: saving model to /content/drive/My Drive/Colab Notebooks/ela_001.ckpt\n",
            "Epoch 31/50\n",
            "106/106 [==============================] - 94s 883ms/step - loss: 0.6869 - accuracy: 0.5349 - val_loss: 0.6917 - val_accuracy: 0.5927\n",
            "\n",
            "Epoch 00031: saving model to /content/drive/My Drive/Colab Notebooks/ela_001.ckpt\n",
            "Epoch 32/50\n",
            "106/106 [==============================] - 93s 877ms/step - loss: 0.6815 - accuracy: 0.5419 - val_loss: 0.6401 - val_accuracy: 0.6026\n",
            "\n",
            "Epoch 00032: saving model to /content/drive/My Drive/Colab Notebooks/ela_001.ckpt\n",
            "Epoch 33/50\n",
            "106/106 [==============================] - 95s 893ms/step - loss: 0.6751 - accuracy: 0.5805 - val_loss: 0.7118 - val_accuracy: 0.5823\n",
            "\n",
            "Epoch 00033: saving model to /content/drive/My Drive/Colab Notebooks/ela_001.ckpt\n",
            "Epoch 34/50\n",
            "106/106 [==============================] - 98s 928ms/step - loss: 0.6741 - accuracy: 0.5796 - val_loss: 0.6424 - val_accuracy: 0.6159\n",
            "\n",
            "Epoch 00034: saving model to /content/drive/My Drive/Colab Notebooks/ela_001.ckpt\n",
            "Epoch 35/50\n",
            "106/106 [==============================] - 94s 891ms/step - loss: 0.6689 - accuracy: 0.5927 - val_loss: 0.7583 - val_accuracy: 0.6391\n",
            "\n",
            "Epoch 00035: saving model to /content/drive/My Drive/Colab Notebooks/ela_001.ckpt\n",
            "Epoch 36/50\n",
            "106/106 [==============================] - 95s 893ms/step - loss: 0.6653 - accuracy: 0.6125 - val_loss: 0.8133 - val_accuracy: 0.5662\n",
            "\n",
            "Epoch 00036: saving model to /content/drive/My Drive/Colab Notebooks/ela_001.ckpt\n",
            "Epoch 37/50\n",
            "106/106 [==============================] - 93s 882ms/step - loss: 0.6714 - accuracy: 0.5594 - val_loss: 0.6948 - val_accuracy: 0.5839\n",
            "\n",
            "Epoch 00037: saving model to /content/drive/My Drive/Colab Notebooks/ela_001.ckpt\n",
            "Epoch 38/50\n",
            "106/106 [==============================] - 95s 892ms/step - loss: 0.6472 - accuracy: 0.6260 - val_loss: 0.7425 - val_accuracy: 0.5949\n",
            "\n",
            "Epoch 00038: saving model to /content/drive/My Drive/Colab Notebooks/ela_001.ckpt\n",
            "Epoch 39/50\n",
            "106/106 [==============================] - 95s 895ms/step - loss: 0.6398 - accuracy: 0.6319 - val_loss: 0.5870 - val_accuracy: 0.6490\n",
            "\n",
            "Epoch 00039: saving model to /content/drive/My Drive/Colab Notebooks/ela_001.ckpt\n",
            "Epoch 40/50\n",
            "106/106 [==============================] - 95s 894ms/step - loss: 0.6373 - accuracy: 0.6263 - val_loss: 0.8424 - val_accuracy: 0.6302\n",
            "\n",
            "Epoch 00040: saving model to /content/drive/My Drive/Colab Notebooks/ela_001.ckpt\n",
            "Epoch 41/50\n",
            "106/106 [==============================] - 93s 878ms/step - loss: 0.6355 - accuracy: 0.6326 - val_loss: 0.7395 - val_accuracy: 0.6369\n",
            "\n",
            "Epoch 00041: saving model to /content/drive/My Drive/Colab Notebooks/ela_001.ckpt\n",
            "Epoch 42/50\n",
            "106/106 [==============================] - 95s 896ms/step - loss: 0.6304 - accuracy: 0.6373 - val_loss: 0.9652 - val_accuracy: 0.5717\n",
            "\n",
            "Epoch 00042: saving model to /content/drive/My Drive/Colab Notebooks/ela_001.ckpt\n",
            "Epoch 43/50\n",
            "106/106 [==============================] - 94s 891ms/step - loss: 0.6217 - accuracy: 0.6548 - val_loss: 0.4911 - val_accuracy: 0.6788\n",
            "\n",
            "Epoch 00043: saving model to /content/drive/My Drive/Colab Notebooks/ela_001.ckpt\n",
            "Epoch 44/50\n",
            "106/106 [==============================] - 95s 892ms/step - loss: 0.6129 - accuracy: 0.6537 - val_loss: 0.5510 - val_accuracy: 0.6854\n",
            "\n",
            "Epoch 00044: saving model to /content/drive/My Drive/Colab Notebooks/ela_001.ckpt\n",
            "Epoch 45/50\n",
            "106/106 [==============================] - 95s 893ms/step - loss: 0.6044 - accuracy: 0.6685 - val_loss: 0.5786 - val_accuracy: 0.6512\n",
            "\n",
            "Epoch 00045: saving model to /content/drive/My Drive/Colab Notebooks/ela_001.ckpt\n",
            "Epoch 46/50\n",
            "106/106 [==============================] - 95s 898ms/step - loss: 0.6211 - accuracy: 0.6517 - val_loss: 0.7164 - val_accuracy: 0.6369\n",
            "\n",
            "Epoch 00046: saving model to /content/drive/My Drive/Colab Notebooks/ela_001.ckpt\n",
            "Epoch 47/50\n",
            "106/106 [==============================] - 93s 876ms/step - loss: 0.6007 - accuracy: 0.6688 - val_loss: 0.5698 - val_accuracy: 0.6777\n",
            "\n",
            "Epoch 00047: saving model to /content/drive/My Drive/Colab Notebooks/ela_001.ckpt\n",
            "Epoch 48/50\n",
            "106/106 [==============================] - 95s 896ms/step - loss: 0.6004 - accuracy: 0.6729 - val_loss: 0.6031 - val_accuracy: 0.6667\n",
            "\n",
            "Epoch 00048: saving model to /content/drive/My Drive/Colab Notebooks/ela_001.ckpt\n",
            "Epoch 49/50\n",
            "106/106 [==============================] - 94s 884ms/step - loss: 0.6038 - accuracy: 0.6693 - val_loss: 0.6366 - val_accuracy: 0.6812\n",
            "\n",
            "Epoch 00049: saving model to /content/drive/My Drive/Colab Notebooks/ela_001.ckpt\n",
            "Epoch 50/50\n",
            "106/106 [==============================] - 99s 932ms/step - loss: 0.5898 - accuracy: 0.6776 - val_loss: 0.6609 - val_accuracy: 0.6402\n",
            "\n",
            "Epoch 00050: saving model to /content/drive/My Drive/Colab Notebooks/ela_001.ckpt\n"
          ],
          "name": "stdout"
        }
      ]
    },
    {
      "cell_type": "code",
      "metadata": {
        "id": "XlhWo3iY7mGD",
        "colab_type": "code",
        "colab": {}
      },
      "source": [
        "import matplotlib.pyplot as plt\n"
      ],
      "execution_count": 0,
      "outputs": []
    },
    {
      "cell_type": "code",
      "metadata": {
        "id": "OQz-VA-gO9C2",
        "colab_type": "code",
        "outputId": "717be65f-9301-466a-86af-fde9e303b065",
        "colab": {
          "base_uri": "https://localhost:8080/",
          "height": 573
        }
      },
      "source": [
        "# summarize history for accuracy\n",
        "plt.plot(history.history['accuracy'])\n",
        "plt.plot(history.history['val_accuracy'])\n",
        "plt.title('model accuracy')\n",
        "plt.ylabel('accuracy')\n",
        "plt.xlabel('epoch')\n",
        "plt.legend(['train', 'validation'], loc='upper left')\n",
        "plt.show()\n",
        "# summarize history for loss\n",
        "plt.plot(history.history['loss'])\n",
        "plt.plot(history.history['val_loss'])\n",
        "plt.title('model loss')\n",
        "plt.ylabel('loss')\n",
        "plt.xlabel('epoch')\n",
        "plt.legend(['train', 'validation'], loc='upper left')\n",
        "plt.show()"
      ],
      "execution_count": 0,
      "outputs": [
        {
          "output_type": "display_data",
          "data": {
            "image/png": "[encoded data removed]",
            "text/plain": [
              "<Figure size 432x288 with 1 Axes>"
            ]
          },
          "metadata": {
            "tags": [],
            "needs_background": "light"
          }
        },
        {
          "output_type": "display_data",
          "data": {
            "image/png": "[encoded data removed]",
            "text/plain": [
              "<Figure size 432x288 with 1 Axes>"
            ]
          },
          "metadata": {
            "tags": [],
            "needs_background": "light"
          }
        }
      ]
    },
    {
      "cell_type": "markdown",
      "metadata": {
        "id": "rylv4biPPAkU",
        "colab_type": "text"
      },
      "source": [
        "\n",
        "\n",
        "---\n",
        "\n",
        "## Phase 2\n",
        "Now we unfreeze the 15th layer and add early stopping callback with a patience of 10 epochs - which means, if the validation loss does not get better (lower) than the current best for 10 consecutive epochs, then the training is terminated."
      ]
    },
    {
      "cell_type": "code",
      "metadata": {
        "id": "ZRjr4_rzGVpV",
        "colab_type": "code",
        "colab": {}
      },
      "source": [
        "#callback\n",
        "cp_callback = ModelCheckpoint(filepath=checkpoint_path,save_best_only= True,verbose=1)\n",
        "es_callback = EarlyStopping(patience=10)\n",
        "callbacks_list = [cp_callback, es_callback]"
      ],
      "execution_count": 0,
      "outputs": []
    },
    {
      "cell_type": "code",
      "metadata": {
        "id": "i2faNTngFgUD",
        "colab_type": "code",
        "colab": {}
      },
      "source": [
        "# compile the model with a SGD/momentum optimizer\n",
        "# and a very slow learning rate.\n",
        "new_model.compile(loss='binary_crossentropy',\n",
        "              optimizer=optimizers.SGD(lr=0.001, momentum = 0.9),\n",
        "              metrics=['accuracy'])"
      ],
      "execution_count": 0,
      "outputs": []
    },
    {
      "cell_type": "code",
      "metadata": {
        "id": "E30zviygO-hm",
        "colab_type": "code",
        "outputId": "c385946d-49ed-4514-bef1-ddf0d671f055",
        "colab": {
          "base_uri": "https://localhost:8080/",
          "height": 1000
        }
      },
      "source": [
        "# fine-tune the model\n",
        "history = new_model.fit_generator(\n",
        "    train_generator,\n",
        "    steps_per_epoch=nb_train_samples // batch_size,\n",
        "        epochs=epochs,\n",
        "        validation_data=validation_generator,\n",
        "        validation_steps=nb_validation_samples // batch_size,\n",
        "        callbacks = callbacks_list)\n"
      ],
      "execution_count": 0,
      "outputs": [
        {
          "output_type": "stream",
          "text": [
            "Epoch 1/50\n",
            "106/106 [==============================] - 97s 911ms/step - loss: 0.6042 - accuracy: 0.6651 - val_loss: 0.5371 - val_accuracy: 0.6760\n",
            "\n",
            "Epoch 00001: val_loss improved from inf to 0.53709, saving model to /content/drive/My Drive/Colab Notebooks/weights_ela_001.01-0.54.hdf5\n",
            "Epoch 2/50\n",
            "106/106 [==============================] - 97s 919ms/step - loss: 0.6016 - accuracy: 0.6761 - val_loss: 0.6915 - val_accuracy: 0.6876\n",
            "\n",
            "Epoch 00002: val_loss did not improve from 0.53709\n",
            "Epoch 3/50\n",
            "106/106 [==============================] - 96s 910ms/step - loss: 0.5914 - accuracy: 0.6799 - val_loss: 0.7273 - val_accuracy: 0.6214\n",
            "\n",
            "Epoch 00003: val_loss did not improve from 0.53709\n",
            "Epoch 4/50\n",
            "106/106 [==============================] - 95s 899ms/step - loss: 0.5790 - accuracy: 0.6872 - val_loss: 0.6932 - val_accuracy: 0.6214\n",
            "\n",
            "Epoch 00004: val_loss did not improve from 0.53709\n",
            "Epoch 5/50\n",
            "106/106 [==============================] - 96s 908ms/step - loss: 0.5850 - accuracy: 0.6892 - val_loss: 0.6283 - val_accuracy: 0.6976\n",
            "\n",
            "Epoch 00005: val_loss did not improve from 0.53709\n",
            "Epoch 6/50\n",
            "106/106 [==============================] - 96s 902ms/step - loss: 0.5803 - accuracy: 0.6961 - val_loss: 0.6961 - val_accuracy: 0.6567\n",
            "\n",
            "Epoch 00006: val_loss did not improve from 0.53709\n",
            "Epoch 7/50\n",
            "106/106 [==============================] - 96s 902ms/step - loss: 0.5692 - accuracy: 0.7028 - val_loss: 0.5788 - val_accuracy: 0.6909\n",
            "\n",
            "Epoch 00007: val_loss did not improve from 0.53709\n",
            "Epoch 8/50\n",
            "106/106 [==============================] - 95s 896ms/step - loss: 0.5669 - accuracy: 0.7052 - val_loss: 0.6173 - val_accuracy: 0.7174\n",
            "\n",
            "Epoch 00008: val_loss did not improve from 0.53709\n",
            "Epoch 9/50\n",
            "106/106 [==============================] - 94s 886ms/step - loss: 0.5732 - accuracy: 0.6924 - val_loss: 0.5342 - val_accuracy: 0.6987\n",
            "\n",
            "Epoch 00009: val_loss improved from 0.53709 to 0.53423, saving model to /content/drive/My Drive/Colab Notebooks/weights_ela_001.09-0.53.hdf5\n",
            "Epoch 10/50\n",
            "106/106 [==============================] - 96s 901ms/step - loss: 0.5535 - accuracy: 0.7134 - val_loss: 0.5715 - val_accuracy: 0.6634\n",
            "\n",
            "Epoch 00010: val_loss did not improve from 0.53423\n",
            "Epoch 11/50\n",
            "106/106 [==============================] - 96s 904ms/step - loss: 0.5514 - accuracy: 0.7067 - val_loss: 0.6574 - val_accuracy: 0.6887\n",
            "\n",
            "Epoch 00011: val_loss did not improve from 0.53423\n",
            "Epoch 12/50\n",
            "106/106 [==============================] - 94s 887ms/step - loss: 0.5592 - accuracy: 0.7115 - val_loss: 0.5807 - val_accuracy: 0.7086\n",
            "\n",
            "Epoch 00012: val_loss did not improve from 0.53423\n",
            "Epoch 13/50\n",
            "106/106 [==============================] - 94s 886ms/step - loss: 0.5571 - accuracy: 0.7068 - val_loss: 0.5285 - val_accuracy: 0.6954\n",
            "\n",
            "Epoch 00013: val_loss improved from 0.53423 to 0.52846, saving model to /content/drive/My Drive/Colab Notebooks/weights_ela_001.13-0.53.hdf5\n",
            "Epoch 14/50\n",
            "106/106 [==============================] - 95s 894ms/step - loss: 0.5571 - accuracy: 0.7087 - val_loss: 0.6158 - val_accuracy: 0.7119\n",
            "\n",
            "Epoch 00014: val_loss did not improve from 0.52846\n",
            "Epoch 15/50\n",
            "106/106 [==============================] - 94s 889ms/step - loss: 0.5511 - accuracy: 0.7096 - val_loss: 0.5857 - val_accuracy: 0.7009\n",
            "\n",
            "Epoch 00015: val_loss did not improve from 0.52846\n",
            "Epoch 16/50\n",
            "106/106 [==============================] - 94s 889ms/step - loss: 0.5405 - accuracy: 0.7238 - val_loss: 0.5581 - val_accuracy: 0.6954\n",
            "\n",
            "Epoch 00016: val_loss did not improve from 0.52846\n",
            "Epoch 17/50\n",
            "106/106 [==============================] - 95s 895ms/step - loss: 0.5387 - accuracy: 0.7129 - val_loss: 0.7522 - val_accuracy: 0.7073\n",
            "\n",
            "Epoch 00017: val_loss did not improve from 0.52846\n",
            "Epoch 18/50\n",
            "106/106 [==============================] - 100s 947ms/step - loss: 0.5500 - accuracy: 0.7103 - val_loss: 0.7268 - val_accuracy: 0.6998\n",
            "\n",
            "Epoch 00018: val_loss did not improve from 0.52846\n",
            "Epoch 19/50\n",
            "106/106 [==============================] - 94s 882ms/step - loss: 0.5384 - accuracy: 0.7229 - val_loss: 0.6103 - val_accuracy: 0.6976\n",
            "\n",
            "Epoch 00019: val_loss did not improve from 0.52846\n",
            "Epoch 20/50\n",
            "106/106 [==============================] - 94s 885ms/step - loss: 0.5294 - accuracy: 0.7294 - val_loss: 0.7898 - val_accuracy: 0.7196\n",
            "\n",
            "Epoch 00020: val_loss did not improve from 0.52846\n",
            "Epoch 21/50\n",
            "106/106 [==============================] - 95s 893ms/step - loss: 0.5239 - accuracy: 0.7340 - val_loss: 0.7240 - val_accuracy: 0.7252\n",
            "\n",
            "Epoch 00021: val_loss did not improve from 0.52846\n",
            "Epoch 22/50\n",
            "106/106 [==============================] - 94s 891ms/step - loss: 0.5342 - accuracy: 0.7146 - val_loss: 0.6041 - val_accuracy: 0.7119\n",
            "\n",
            "Epoch 00022: val_loss did not improve from 0.52846\n",
            "Epoch 23/50\n",
            "106/106 [==============================] - 93s 878ms/step - loss: 0.5269 - accuracy: 0.7403 - val_loss: 0.6046 - val_accuracy: 0.6921\n",
            "\n",
            "Epoch 00023: val_loss did not improve from 0.52846\n"
          ],
          "name": "stdout"
        }
      ]
    },
    {
      "cell_type": "code",
      "metadata": {
        "id": "U0_cjfz2R6Io",
        "colab_type": "code",
        "colab": {}
      },
      "source": [
        "import matplotlib.pyplot as plt\n"
      ],
      "execution_count": 0,
      "outputs": []
    },
    {
      "cell_type": "code",
      "metadata": {
        "id": "388JbGixR4wE",
        "colab_type": "code",
        "outputId": "728008b2-7da1-46fd-cf72-fd831376ead0",
        "colab": {
          "base_uri": "https://localhost:8080/",
          "height": 573
        }
      },
      "source": [
        "# summarize history for accuracy\n",
        "plt.plot(history.history['accuracy'])\n",
        "plt.plot(history.history['val_accuracy'])\n",
        "plt.title('model accuracy')\n",
        "plt.ylabel('accuracy')\n",
        "plt.xlabel('epoch')\n",
        "plt.legend(['train', 'validation'], loc='upper left')\n",
        "plt.show()\n",
        "# summarize history for loss\n",
        "plt.plot(history.history['loss'])\n",
        "plt.plot(history.history['val_loss'])\n",
        "plt.title('model loss')\n",
        "plt.ylabel('loss')\n",
        "plt.xlabel('epoch')\n",
        "plt.legend(['train', 'validation'], loc='upper left')\n",
        "plt.show()"
      ],
      "execution_count": 0,
      "outputs": [
        {
          "output_type": "display_data",
          "data": {
            "image/png": "[encoded data removed]",
            "text/plain": [
              "<Figure size 432x288 with 1 Axes>"
            ]
          },
          "metadata": {
            "tags": [],
            "needs_background": "light"
          }
        },
        {
          "output_type": "display_data",
          "data": {
            "image/png": "[encoded data removed]",
            "text/plain": [
              "<Figure size 432x288 with 1 Axes>"
            ]
          },
          "metadata": {
            "tags": [],
            "needs_background": "light"
          }
        }
      ]
    },
    {
      "cell_type": "markdown",
      "metadata": {
        "id": "DaDonwjBPZ23",
        "colab_type": "text"
      },
      "source": [
        "\n",
        "\n",
        "---\n",
        "\n",
        "## Phase 3\n",
        "The Early Stopping callback is removed and the model is let to run for all 50 epochs."
      ]
    },
    {
      "cell_type": "code",
      "metadata": {
        "id": "AX_VfhgcFMAa",
        "colab_type": "code",
        "colab": {}
      },
      "source": [
        "#callback\n",
        "cp_callback = ModelCheckpoint(filepath=checkpoint_path,save_best_only= True,verbose=1)\n",
        "# es_callback = EarlyStopping(patience=10)\n",
        "callbacks_list = [cp_callback]"
      ],
      "execution_count": 0,
      "outputs": []
    },
    {
      "cell_type": "code",
      "metadata": {
        "id": "hbdTceB_RrNV",
        "colab_type": "code",
        "outputId": "6d6d263f-9322-4af9-bf7c-c95d3afca3eb",
        "colab": {
          "base_uri": "https://localhost:8080/",
          "height": 1000
        }
      },
      "source": [
        "# fine-tune the model\n",
        "history = new_model.fit_generator(\n",
        "    train_generator,\n",
        "    steps_per_epoch=nb_train_samples // batch_size,\n",
        "        epochs=epochs,\n",
        "        validation_data=validation_generator,\n",
        "        validation_steps=nb_validation_samples // batch_size,\n",
        "        callbacks = callbacks_list)"
      ],
      "execution_count": 0,
      "outputs": [
        {
          "output_type": "stream",
          "text": [
            "Epoch 1/50\n",
            "106/106 [==============================] - 97s 918ms/step - loss: 0.5275 - accuracy: 0.7300 - val_loss: 0.5680 - val_accuracy: 0.7021\n",
            "\n",
            "Epoch 00001: val_loss improved from inf to 0.56800, saving model to /content/drive/My Drive/Colab Notebooks/weights_ela_001.01-0.57.hdf5\n",
            "Epoch 2/50\n",
            "106/106 [==============================] - 97s 916ms/step - loss: 0.5143 - accuracy: 0.7394 - val_loss: 0.7588 - val_accuracy: 0.6921\n",
            "\n",
            "Epoch 00002: val_loss did not improve from 0.56800\n",
            "Epoch 3/50\n",
            "106/106 [==============================] - 96s 906ms/step - loss: 0.5057 - accuracy: 0.7423 - val_loss: 0.8434 - val_accuracy: 0.7031\n",
            "\n",
            "Epoch 00003: val_loss did not improve from 0.56800\n",
            "Epoch 4/50\n",
            "106/106 [==============================] - 96s 904ms/step - loss: 0.5062 - accuracy: 0.7482 - val_loss: 0.6846 - val_accuracy: 0.7163\n",
            "\n",
            "Epoch 00004: val_loss did not improve from 0.56800\n",
            "Epoch 5/50\n",
            "106/106 [==============================] - 96s 907ms/step - loss: 0.5155 - accuracy: 0.7421 - val_loss: 0.6279 - val_accuracy: 0.6976\n",
            "\n",
            "Epoch 00005: val_loss did not improve from 0.56800\n",
            "Epoch 6/50\n",
            "106/106 [==============================] - 94s 889ms/step - loss: 0.5088 - accuracy: 0.7358 - val_loss: 0.6111 - val_accuracy: 0.6689\n",
            "\n",
            "Epoch 00006: val_loss did not improve from 0.56800\n",
            "Epoch 7/50\n",
            "106/106 [==============================] - 94s 887ms/step - loss: 0.5123 - accuracy: 0.7398 - val_loss: 0.6634 - val_accuracy: 0.6998\n",
            "\n",
            "Epoch 00007: val_loss did not improve from 0.56800\n",
            "Epoch 8/50\n",
            "106/106 [==============================] - 94s 884ms/step - loss: 0.5023 - accuracy: 0.7545 - val_loss: 0.7869 - val_accuracy: 0.7020\n",
            "\n",
            "Epoch 00008: val_loss did not improve from 0.56800\n",
            "Epoch 9/50\n",
            "106/106 [==============================] - 92s 871ms/step - loss: 0.4948 - accuracy: 0.7554 - val_loss: 0.6757 - val_accuracy: 0.6843\n",
            "\n",
            "Epoch 00009: val_loss did not improve from 0.56800\n",
            "Epoch 10/50\n",
            "106/106 [==============================] - 92s 867ms/step - loss: 0.4888 - accuracy: 0.7553 - val_loss: 0.6102 - val_accuracy: 0.7086\n",
            "\n",
            "Epoch 00010: val_loss did not improve from 0.56800\n",
            "Epoch 11/50\n",
            "106/106 [==============================] - 95s 893ms/step - loss: 0.4838 - accuracy: 0.7681 - val_loss: 0.8472 - val_accuracy: 0.7042\n",
            "\n",
            "Epoch 00011: val_loss did not improve from 0.56800\n",
            "Epoch 12/50\n",
            "106/106 [==============================] - 94s 885ms/step - loss: 0.4923 - accuracy: 0.7516 - val_loss: 0.6176 - val_accuracy: 0.6722\n",
            "\n",
            "Epoch 00012: val_loss did not improve from 0.56800\n",
            "Epoch 13/50\n",
            "106/106 [==============================] - 92s 869ms/step - loss: 0.4986 - accuracy: 0.7546 - val_loss: 0.6644 - val_accuracy: 0.7053\n",
            "\n",
            "Epoch 00013: val_loss did not improve from 0.56800\n",
            "Epoch 14/50\n",
            "106/106 [==============================] - 92s 868ms/step - loss: 0.5155 - accuracy: 0.7383 - val_loss: 0.7505 - val_accuracy: 0.6976\n",
            "\n",
            "Epoch 00014: val_loss did not improve from 0.56800\n",
            "Epoch 15/50\n",
            "106/106 [==============================] - 93s 877ms/step - loss: 0.4741 - accuracy: 0.7653 - val_loss: 0.6253 - val_accuracy: 0.7086\n",
            "\n",
            "Epoch 00015: val_loss did not improve from 0.56800\n",
            "Epoch 16/50\n",
            "106/106 [==============================] - 92s 872ms/step - loss: 0.4789 - accuracy: 0.7672 - val_loss: 0.3957 - val_accuracy: 0.7020\n",
            "\n",
            "Epoch 00016: val_loss improved from 0.56800 to 0.39575, saving model to /content/drive/My Drive/Colab Notebooks/weights_ela_001.16-0.40.hdf5\n",
            "Epoch 17/50\n",
            "106/106 [==============================] - 92s 867ms/step - loss: 0.4667 - accuracy: 0.7726 - val_loss: 0.5101 - val_accuracy: 0.7396\n",
            "\n",
            "Epoch 00017: val_loss did not improve from 0.39575\n",
            "Epoch 18/50\n",
            "106/106 [==============================] - 96s 908ms/step - loss: 0.4833 - accuracy: 0.7626 - val_loss: 0.6399 - val_accuracy: 0.7384\n",
            "\n",
            "Epoch 00018: val_loss did not improve from 0.39575\n",
            "Epoch 19/50\n",
            "106/106 [==============================] - 91s 861ms/step - loss: 0.4713 - accuracy: 0.7588 - val_loss: 0.5573 - val_accuracy: 0.7152\n",
            "\n",
            "Epoch 00019: val_loss did not improve from 0.39575\n",
            "Epoch 20/50\n",
            "106/106 [==============================] - 92s 866ms/step - loss: 0.4734 - accuracy: 0.7652 - val_loss: 0.5322 - val_accuracy: 0.7174\n",
            "\n",
            "Epoch 00020: val_loss did not improve from 0.39575\n",
            "Epoch 21/50\n",
            "106/106 [==============================] - 91s 854ms/step - loss: 0.4602 - accuracy: 0.7725 - val_loss: 0.8108 - val_accuracy: 0.7395\n",
            "\n",
            "Epoch 00021: val_loss did not improve from 0.39575\n",
            "Epoch 22/50\n",
            "106/106 [==============================] - 91s 862ms/step - loss: 0.4558 - accuracy: 0.7783 - val_loss: 0.7260 - val_accuracy: 0.6744\n",
            "\n",
            "Epoch 00022: val_loss did not improve from 0.39575\n",
            "Epoch 23/50\n",
            "106/106 [==============================] - 93s 881ms/step - loss: 0.4667 - accuracy: 0.7733 - val_loss: 0.5504 - val_accuracy: 0.7086\n",
            "\n",
            "Epoch 00023: val_loss did not improve from 0.39575\n",
            "Epoch 24/50\n",
            "106/106 [==============================] - 92s 872ms/step - loss: 0.4496 - accuracy: 0.7854 - val_loss: 1.1065 - val_accuracy: 0.7241\n",
            "\n",
            "Epoch 00024: val_loss did not improve from 0.39575\n",
            "Epoch 25/50\n",
            "106/106 [==============================] - 90s 849ms/step - loss: 0.4759 - accuracy: 0.7680 - val_loss: 0.8135 - val_accuracy: 0.7064\n",
            "\n",
            "Epoch 00025: val_loss did not improve from 0.39575\n",
            "Epoch 26/50\n",
            "106/106 [==============================] - 92s 871ms/step - loss: 0.4574 - accuracy: 0.7773 - val_loss: 0.4193 - val_accuracy: 0.7351\n",
            "\n",
            "Epoch 00026: val_loss did not improve from 0.39575\n",
            "Epoch 27/50\n",
            "106/106 [==============================] - 90s 852ms/step - loss: 0.4626 - accuracy: 0.7703 - val_loss: 0.6551 - val_accuracy: 0.7241\n",
            "\n",
            "Epoch 00027: val_loss did not improve from 0.39575\n",
            "Epoch 28/50\n",
            "106/106 [==============================] - 93s 880ms/step - loss: 0.4544 - accuracy: 0.7793 - val_loss: 0.8328 - val_accuracy: 0.6987\n",
            "\n",
            "Epoch 00028: val_loss did not improve from 0.39575\n",
            "Epoch 29/50\n",
            "106/106 [==============================] - 91s 861ms/step - loss: 0.4483 - accuracy: 0.7782 - val_loss: 0.8552 - val_accuracy: 0.6898\n",
            "\n",
            "Epoch 00029: val_loss did not improve from 0.39575\n",
            "Epoch 30/50\n",
            "106/106 [==============================] - 94s 883ms/step - loss: 0.4383 - accuracy: 0.7935 - val_loss: 0.7135 - val_accuracy: 0.7097\n",
            "\n",
            "Epoch 00030: val_loss did not improve from 0.39575\n",
            "Epoch 31/50\n",
            "106/106 [==============================] - 91s 863ms/step - loss: 0.4301 - accuracy: 0.7945 - val_loss: 0.7904 - val_accuracy: 0.7163\n",
            "\n",
            "Epoch 00031: val_loss did not improve from 0.39575\n",
            "Epoch 32/50\n",
            "106/106 [==============================] - 93s 876ms/step - loss: 0.4334 - accuracy: 0.7904 - val_loss: 0.7777 - val_accuracy: 0.6932\n",
            "\n",
            "Epoch 00032: val_loss did not improve from 0.39575\n",
            "Epoch 33/50\n",
            "106/106 [==============================] - 93s 875ms/step - loss: 0.4468 - accuracy: 0.7770 - val_loss: 0.7023 - val_accuracy: 0.7271\n",
            "\n",
            "Epoch 00033: val_loss did not improve from 0.39575\n",
            "Epoch 34/50\n",
            "106/106 [==============================] - 96s 903ms/step - loss: 0.4459 - accuracy: 0.7859 - val_loss: 0.5236 - val_accuracy: 0.7196\n",
            "\n",
            "Epoch 00034: val_loss did not improve from 0.39575\n",
            "Epoch 35/50\n",
            "106/106 [==============================] - 93s 873ms/step - loss: 0.4391 - accuracy: 0.7902 - val_loss: 0.6359 - val_accuracy: 0.7285\n",
            "\n",
            "Epoch 00035: val_loss did not improve from 0.39575\n",
            "Epoch 36/50\n",
            "106/106 [==============================] - 91s 861ms/step - loss: 0.4188 - accuracy: 0.7960 - val_loss: 0.8108 - val_accuracy: 0.7075\n",
            "\n",
            "Epoch 00036: val_loss did not improve from 0.39575\n",
            "Epoch 37/50\n",
            "106/106 [==============================] - 90s 853ms/step - loss: 0.4324 - accuracy: 0.7920 - val_loss: 1.0507 - val_accuracy: 0.6854\n",
            "\n",
            "Epoch 00037: val_loss did not improve from 0.39575\n",
            "Epoch 38/50\n",
            "106/106 [==============================] - 91s 854ms/step - loss: 0.4181 - accuracy: 0.8012 - val_loss: 0.7260 - val_accuracy: 0.7263\n",
            "\n",
            "Epoch 00038: val_loss did not improve from 0.39575\n",
            "Epoch 39/50\n",
            "106/106 [==============================] - 92s 871ms/step - loss: 0.4260 - accuracy: 0.7958 - val_loss: 0.8445 - val_accuracy: 0.7351\n",
            "\n",
            "Epoch 00039: val_loss did not improve from 0.39575\n",
            "Epoch 40/50\n",
            "106/106 [==============================] - 90s 851ms/step - loss: 0.4168 - accuracy: 0.7997 - val_loss: 0.6160 - val_accuracy: 0.7097\n",
            "\n",
            "Epoch 00040: val_loss did not improve from 0.39575\n",
            "Epoch 41/50\n",
            "106/106 [==============================] - 93s 874ms/step - loss: 0.4137 - accuracy: 0.8034 - val_loss: 0.8433 - val_accuracy: 0.7340\n",
            "\n",
            "Epoch 00041: val_loss did not improve from 0.39575\n",
            "Epoch 42/50\n",
            "106/106 [==============================] - 91s 860ms/step - loss: 0.4167 - accuracy: 0.8050 - val_loss: 1.2183 - val_accuracy: 0.7130\n",
            "\n",
            "Epoch 00042: val_loss did not improve from 0.39575\n",
            "Epoch 43/50\n",
            "106/106 [==============================] - 91s 861ms/step - loss: 0.4110 - accuracy: 0.8048 - val_loss: 0.6256 - val_accuracy: 0.7031\n",
            "\n",
            "Epoch 00043: val_loss did not improve from 0.39575\n",
            "Epoch 44/50\n",
            "106/106 [==============================] - 91s 860ms/step - loss: 0.4221 - accuracy: 0.7972 - val_loss: 0.7576 - val_accuracy: 0.7274\n",
            "\n",
            "Epoch 00044: val_loss did not improve from 0.39575\n",
            "Epoch 45/50\n",
            "106/106 [==============================] - 93s 874ms/step - loss: 0.4083 - accuracy: 0.8119 - val_loss: 0.6275 - val_accuracy: 0.6976\n",
            "\n",
            "Epoch 00045: val_loss did not improve from 0.39575\n",
            "Epoch 46/50\n",
            "106/106 [==============================] - 92s 867ms/step - loss: 0.4012 - accuracy: 0.8144 - val_loss: 0.9239 - val_accuracy: 0.6799\n",
            "\n",
            "Epoch 00046: val_loss did not improve from 0.39575\n",
            "Epoch 47/50\n",
            "106/106 [==============================] - 92s 865ms/step - loss: 0.4124 - accuracy: 0.8039 - val_loss: 0.6128 - val_accuracy: 0.7174\n",
            "\n",
            "Epoch 00047: val_loss did not improve from 0.39575\n",
            "Epoch 48/50\n",
            "106/106 [==============================] - 91s 860ms/step - loss: 0.3995 - accuracy: 0.8103 - val_loss: 0.4403 - val_accuracy: 0.7031\n",
            "\n",
            "Epoch 00048: val_loss did not improve from 0.39575\n",
            "Epoch 49/50\n",
            "106/106 [==============================] - 91s 856ms/step - loss: 0.4252 - accuracy: 0.7972 - val_loss: 0.6471 - val_accuracy: 0.7125\n",
            "\n",
            "Epoch 00049: val_loss did not improve from 0.39575\n",
            "Epoch 50/50\n",
            "106/106 [==============================] - 97s 919ms/step - loss: 0.3917 - accuracy: 0.8126 - val_loss: 0.7619 - val_accuracy: 0.7196\n",
            "\n",
            "Epoch 00050: val_loss did not improve from 0.39575\n"
          ],
          "name": "stdout"
        }
      ]
    },
    {
      "cell_type": "code",
      "metadata": {
        "id": "YIUJ3k4ZRsuj",
        "colab_type": "code",
        "outputId": "d36f20f5-d497-4b25-f346-0b3842d9bf03",
        "colab": {
          "base_uri": "https://localhost:8080/",
          "height": 573
        }
      },
      "source": [
        "# summarize history for accuracy\n",
        "plt.plot(history.history['accuracy'])\n",
        "plt.plot(history.history['val_accuracy'])\n",
        "plt.title('model accuracy')\n",
        "plt.ylabel('accuracy')\n",
        "plt.xlabel('epoch')\n",
        "plt.legend(['train', 'validation'], loc='upper left')\n",
        "plt.show()\n",
        "# summarize history for loss\n",
        "plt.plot(history.history['loss'])\n",
        "plt.plot(history.history['val_loss'])\n",
        "plt.title('model loss')\n",
        "plt.ylabel('loss')\n",
        "plt.xlabel('epoch')\n",
        "plt.legend(['train', 'validation'], loc='upper left')\n",
        "plt.show()"
      ],
      "execution_count": 0,
      "outputs": [
        {
          "output_type": "display_data",
          "data": {
            "image/png": "[encoded data removed]",
            "text/plain": [
              "<Figure size 432x288 with 1 Axes>"
            ]
          },
          "metadata": {
            "tags": [],
            "needs_background": "light"
          }
        },
        {
          "output_type": "display_data",
          "data": {
            "image/png": "[encoded data removed]",
            "text/plain": [
              "<Figure size 432x288 with 1 Axes>"
            ]
          },
          "metadata": {
            "tags": [],
            "needs_background": "light"
          }
        }
      ]
    },
    {
      "cell_type": "code",
      "metadata": {
        "id": "glnZSeZ2ZaNn",
        "colab_type": "code",
        "colab": {}
      },
      "source": [
        "from sklearn.metrics import classification_report, confusion_matrix"
      ],
      "execution_count": 0,
      "outputs": []
    },
    {
      "cell_type": "code",
      "metadata": {
        "id": "ewFRc7kdXnN4",
        "colab_type": "code",
        "colab": {}
      },
      "source": [
        "model_2 = new_model"
      ],
      "execution_count": 0,
      "outputs": []
    },
    {
      "cell_type": "code",
      "metadata": {
        "id": "afPhR1Q6XRsF",
        "colab_type": "code",
        "colab": {}
      },
      "source": [
        "model_2.load_weights('/content/drive/My Drive/Colab Notebooks/weights_ela_001.16-0.40.hdf5')"
      ],
      "execution_count": 0,
      "outputs": []
    },
    {
      "cell_type": "code",
      "metadata": {
        "id": "qe6RmiVvoGQ2",
        "colab_type": "code",
        "colab": {}
      },
      "source": [
        "t_datagen = ImageDataGenerator(rescale=1. / 255)"
      ],
      "execution_count": 0,
      "outputs": []
    },
    {
      "cell_type": "code",
      "metadata": {
        "id": "iEfU6dN9oAFP",
        "colab_type": "code",
        "outputId": "8f0f54ce-36ff-444e-a729-01ae4797218d",
        "colab": {
          "base_uri": "https://localhost:8080/",
          "height": 35
        }
      },
      "source": [
        "val_gen = t_datagen.flow_from_directory(\n",
        "    validation_data_dir,\n",
        "    target_size=(img_height, img_width),\n",
        "    batch_size=batch_size,\n",
        "    class_mode='binary', shuffle = False)"
      ],
      "execution_count": 0,
      "outputs": [
        {
          "output_type": "stream",
          "text": [
            "Found 970 images belonging to 2 classes.\n"
          ],
          "name": "stdout"
        }
      ]
    },
    {
      "cell_type": "code",
      "metadata": {
        "id": "nEwdgYRhQc7k",
        "colab_type": "code",
        "outputId": "8db577df-15cb-426a-e448-9220415ab527",
        "colab": {
          "base_uri": "https://localhost:8080/",
          "height": 35
        }
      },
      "source": [
        "predictions = model_2.predict_generator(val_gen, nb_validation_samples // batch_size+1)\n",
        "len(predictions)"
      ],
      "execution_count": 0,
      "outputs": [
        {
          "output_type": "execute_result",
          "data": {
            "text/plain": [
              "970"
            ]
          },
          "metadata": {
            "tags": []
          },
          "execution_count": 48
        }
      ]
    },
    {
      "cell_type": "code",
      "metadata": {
        "id": "nppkyPUDD2ud",
        "colab_type": "code",
        "colab": {}
      },
      "source": [
        "y_pred = [\"Real\" if x >= 0.5 else \"Fake\" for x in predictions ]"
      ],
      "execution_count": 0,
      "outputs": []
    },
    {
      "cell_type": "code",
      "metadata": {
        "id": "sZtvCOYuBQ5f",
        "colab_type": "code",
        "colab": {}
      },
      "source": [
        "target_labels = [\"Fake\", \"Real\"]"
      ],
      "execution_count": 0,
      "outputs": []
    },
    {
      "cell_type": "code",
      "metadata": {
        "id": "mM24_weqDD4N",
        "colab_type": "code",
        "colab": {}
      },
      "source": [
        "actual_labels = [\"Fake\" if x == 0 else \"Real\" for x in validation_generator.classes]"
      ],
      "execution_count": 0,
      "outputs": []
    },
    {
      "cell_type": "code",
      "metadata": {
        "id": "WiaVqwDgyNU-",
        "colab_type": "code",
        "outputId": "74874b91-798e-4f8b-d30b-7964460a02f4",
        "colab": {
          "base_uri": "https://localhost:8080/",
          "height": 71
        }
      },
      "source": [
        "print('Confusion Matrix')\n",
        "cm = confusion_matrix(actual_labels, y_pred,labels=[\"Fake\", \"Real\"])\n",
        "print(confusion_matrix(actual_labels, y_pred))"
      ],
      "execution_count": 0,
      "outputs": [
        {
          "output_type": "stream",
          "text": [
            "Confusion Matrix\n",
            "[[385 100]\n",
            " [186 299]]\n"
          ],
          "name": "stdout"
        }
      ]
    },
    {
      "cell_type": "code",
      "metadata": {
        "id": "FXNqSm8CtFGk",
        "colab_type": "code",
        "outputId": "cde812be-4afd-40c1-f1a3-e3ec12e97403",
        "colab": {
          "base_uri": "https://localhost:8080/",
          "height": 178
        }
      },
      "source": [
        "print(classification_report(actual_labels, y_pred, \n",
        "target_names=['Fake','Real']))"
      ],
      "execution_count": 0,
      "outputs": [
        {
          "output_type": "stream",
          "text": [
            "              precision    recall  f1-score   support\n",
            "\n",
            "        Fake       0.67      0.79      0.73       485\n",
            "        Real       0.75      0.62      0.68       485\n",
            "\n",
            "    accuracy                           0.71       970\n",
            "   macro avg       0.71      0.71      0.70       970\n",
            "weighted avg       0.71      0.71      0.70       970\n",
            "\n"
          ],
          "name": "stdout"
        }
      ]
    },
    {
      "cell_type": "code",
      "metadata": {
        "id": "nAdbhvMmZIFF",
        "colab_type": "code",
        "colab": {}
      },
      "source": [
        "import seaborn as sn\n",
        "import pandas as pd\n",
        "import matplotlib.pyplot as plt"
      ],
      "execution_count": 0,
      "outputs": []
    },
    {
      "cell_type": "code",
      "metadata": {
        "id": "zX0T498KZJCy",
        "colab_type": "code",
        "outputId": "2bc7544c-7cfa-4c90-a2e6-0cdf260f7701",
        "colab": {
          "base_uri": "https://localhost:8080/",
          "height": 273
        }
      },
      "source": [
        "df_cm = pd.DataFrame(cm, range(2), range(2))\n",
        "# plt.figure(figsize=(10,7))\n",
        "sn.set(font_scale=1.4) # for label size\n",
        "sn.heatmap(df_cm, annot=True, annot_kws={\"size\": 16},fmt=\"d\",xticklabels=target_labels,yticklabels=target_labels) # font size\n",
        "\n",
        "plt.show()"
      ],
      "execution_count": 0,
      "outputs": [
        {
          "output_type": "display_data",
          "data": {
            "image/png": "[encoded data removed]",
            "text/plain": [
              "<Figure size 432x288 with 2 Axes>"
            ]
          },
          "metadata": {
            "tags": []
          }
        }
      ]
    },
    {
      "cell_type": "code",
      "metadata": {
        "id": "-OsBob7R6Viw",
        "colab_type": "code",
        "colab": {}
      },
      "source": [
        ""
      ],
      "execution_count": 0,
      "outputs": []
    }
  ]
}